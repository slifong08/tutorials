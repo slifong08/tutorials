{
 "cells": [
  {
   "cell_type": "code",
   "execution_count": 1,
   "id": "9b5da436",
   "metadata": {
    "ExecuteTime": {
     "end_time": "2021-12-07T23:59:24.278804Z",
     "start_time": "2021-12-07T23:59:24.262136Z"
    }
   },
   "outputs": [],
   "source": [
    "import configparser\n",
    "import os\n",
    "import subprocess\n",
    "import sys"
   ]
  },
  {
   "cell_type": "markdown",
   "id": "1535b02a",
   "metadata": {},
   "source": [
    "# load config"
   ]
  },
  {
   "cell_type": "code",
   "execution_count": 2,
   "id": "0bb8e0a1",
   "metadata": {
    "ExecuteTime": {
     "end_time": "2021-12-07T23:59:24.304898Z",
     "start_time": "2021-12-07T23:59:24.282680Z"
    }
   },
   "outputs": [
    {
     "data": {
      "text/plain": [
       "['/dors/capra_lab/users/fongsl/tutorials/using_config_ini/bin/config_gwas.ini']"
      ]
     },
     "execution_count": 2,
     "metadata": {},
     "output_type": "execute_result"
    }
   ],
   "source": [
    "DEV = True\n",
    "\n",
    "if DEV is True:\n",
    "    BASE_PATH = \"/dors/capra_lab/users/fongsl/tutorials/using_config_ini/\"\n",
    "    configfile_name = os.path.join(BASE_PATH, \"bin\", \"config_gwas.ini\") # name the file\n",
    "else:\n",
    "    configfile_name = sys.argv[1]\n",
    "    \n",
    "config = configparser.ConfigParser()\n",
    "config.read(configfile_name)"
   ]
  },
  {
   "cell_type": "markdown",
   "id": "2e36ca74",
   "metadata": {},
   "source": [
    "# load parameters "
   ]
  },
  {
   "cell_type": "code",
   "execution_count": 3,
   "id": "000bec52",
   "metadata": {
    "ExecuteTime": {
     "end_time": "2021-12-07T23:59:24.315890Z",
     "start_time": "2021-12-07T23:59:24.308930Z"
    }
   },
   "outputs": [],
   "source": [
    "GWAS_CAT_CLEAN_BED = config[\"FILE\"][\"GWAS_CAT_CLEAN_BED\"]  # read\n",
    "GWAS_CAT_CLEAN_LD = config[\"FILE\"][\"GWAS_CLEAN_LD\"]  # write\n",
    "ASSOC2LD = config[\"BIN\"][\"LD_ASSOC_SCRIPT\"]  # bin\n",
    "\n",
    "POP = config[\"PARAMS\"][\"POP\"]  # param"
   ]
  },
  {
   "cell_type": "markdown",
   "id": "4d5ea213",
   "metadata": {},
   "source": [
    "# Functions "
   ]
  },
  {
   "cell_type": "code",
   "execution_count": 4,
   "id": "9ff98ee3",
   "metadata": {
    "ExecuteTime": {
     "end_time": "2021-12-07T23:59:24.326613Z",
     "start_time": "2021-12-07T23:59:24.319300Z"
    }
   },
   "outputs": [],
   "source": [
    "def run_assoc2SNP(assoc2ldsnp, pop, gwas_cat_clean_bed, gwas_cat_clean_expanded):\n",
    "    \n",
    "    cmd = f\"python {assoc2ldsnp} {pop} {gwas_cat_clean_bed} > {gwas_cat_clean_expanded}\"\n",
    "\n",
    "    if os.path.exists(gwas_cat_clean_expanded) is False:\n",
    "        print(\"LD expanding\")\n",
    "        subprocess.call(cmd, shell = True) \n",
    "        \n",
    "    else:\n",
    "        print(\"already expanded\")"
   ]
  },
  {
   "cell_type": "markdown",
   "id": "bb098cdc",
   "metadata": {},
   "source": [
    "# Main "
   ]
  },
  {
   "cell_type": "code",
   "execution_count": 5,
   "id": "081fc52d",
   "metadata": {
    "ExecuteTime": {
     "end_time": "2021-12-07T23:59:28.288189Z",
     "start_time": "2021-12-07T23:59:24.330266Z"
    }
   },
   "outputs": [
    {
     "name": "stdout",
     "output_type": "stream",
     "text": [
      "LD expanding\n"
     ]
    }
   ],
   "source": [
    "def main(argv):\n",
    "    \n",
    "    run_assoc2SNP(ASSOC2LD, POP, GWAS_CAT_CLEAN_BED, GWAS_CAT_CLEAN_LD)\n",
    "    \n",
    "if __name__ == \"__main__\":\n",
    "    main(sys.argv[1:])"
   ]
  },
  {
   "cell_type": "markdown",
   "id": "11cb60d8",
   "metadata": {},
   "source": [
    "# write notebook as .py"
   ]
  },
  {
   "cell_type": "code",
   "execution_count": 6,
   "id": "0b62c7e9",
   "metadata": {
    "ExecuteTime": {
     "end_time": "2021-12-07T23:59:30.543424Z",
     "start_time": "2021-12-07T23:59:28.292218Z"
    }
   },
   "outputs": [
    {
     "data": {
      "text/plain": [
       "0"
      ]
     },
     "execution_count": 6,
     "metadata": {},
     "output_type": "execute_result"
    }
   ],
   "source": [
    "NAME= \"LD_expand_GWAS\"\n",
    "cmd = f\"jupyter nbconvert --to python {NAME}.ipynb\"\n",
    "subprocess.call(cmd, shell = True)"
   ]
  }
 ],
 "metadata": {
  "kernelspec": {
   "display_name": "Python (sfenv)",
   "language": "python",
   "name": "sfenv"
  },
  "language_info": {
   "codemirror_mode": {
    "name": "ipython",
    "version": 3
   },
   "file_extension": ".py",
   "mimetype": "text/x-python",
   "name": "python",
   "nbconvert_exporter": "python",
   "pygments_lexer": "ipython3",
   "version": "3.6.6"
  },
  "toc": {
   "base_numbering": 1,
   "nav_menu": {},
   "number_sections": true,
   "sideBar": true,
   "skip_h1_title": false,
   "title_cell": "Table of Contents",
   "title_sidebar": "Contents",
   "toc_cell": false,
   "toc_position": {},
   "toc_section_display": true,
   "toc_window_display": false
  }
 },
 "nbformat": 4,
 "nbformat_minor": 5
}
