{
 "cells": [
  {
   "cell_type": "markdown",
   "id": "86288da9",
   "metadata": {},
   "source": [
    "# Overview\n",
    "20211207\n",
    "\n",
    "sarahfong\n",
    "\n",
    "Managing projects, crafting config files, using config files to build pipelines"
   ]
  },
  {
   "cell_type": "markdown",
   "id": "ba110d69",
   "metadata": {},
   "source": [
    "# Creating/using config.ini file "
   ]
  },
  {
   "cell_type": "markdown",
   "id": "734f198d",
   "metadata": {},
   "source": [
    "## configparser\n",
    "\n",
    "Python library to read and write config files\n",
    "\n",
    "https://docs.python.org/3/library/configparser.html\n",
    "\n",
    "    pip install configparser\n",
    "    \n",
    "    conda install -c anaconda configparser \n",
    "    \n"
   ]
  },
  {
   "cell_type": "markdown",
   "id": "363adf6b",
   "metadata": {},
   "source": [
    "## Example driver script to write config.ini"
   ]
  },
  {
   "cell_type": "code",
   "execution_count": 1,
   "id": "cfa0cf11",
   "metadata": {
    "ExecuteTime": {
     "end_time": "2021-12-08T00:36:31.953625Z",
     "start_time": "2021-12-08T00:36:31.935191Z"
    }
   },
   "outputs": [],
   "source": [
    "import os\n",
    "import configparser"
   ]
  },
  {
   "cell_type": "code",
   "execution_count": 2,
   "id": "4f883038",
   "metadata": {
    "ExecuteTime": {
     "end_time": "2021-12-08T00:36:31.963130Z",
     "start_time": "2021-12-08T00:36:31.957213Z"
    }
   },
   "outputs": [],
   "source": [
    "BASE_PATH = os.getcwd()\n",
    "configfile_name = os.path.join(BASE_PATH, \"config_gwas.ini\") # name the file"
   ]
  },
  {
   "cell_type": "markdown",
   "id": "44fbde0f",
   "metadata": {},
   "source": [
    "### call configparser"
   ]
  },
  {
   "cell_type": "code",
   "execution_count": 3,
   "id": "e83a83e2",
   "metadata": {
    "ExecuteTime": {
     "end_time": "2021-12-08T00:36:31.972515Z",
     "start_time": "2021-12-08T00:36:31.967659Z"
    }
   },
   "outputs": [],
   "source": [
    "# Add content to the file\n",
    "config = configparser.ConfigParser()"
   ]
  },
  {
   "cell_type": "markdown",
   "id": "53c42d4c",
   "metadata": {},
   "source": [
    "### set parameters"
   ]
  },
  {
   "cell_type": "code",
   "execution_count": 4,
   "id": "cf8ba65d",
   "metadata": {
    "ExecuteTime": {
     "end_time": "2021-12-08T00:36:31.981606Z",
     "start_time": "2021-12-08T00:36:31.976562Z"
    }
   },
   "outputs": [],
   "source": [
    "# Parameters\n",
    "POP = \"EUR\"  # LD panel in 1000G\n",
    "DL_DATE = \"2021-10-25\"  # date GWAS catalog was last downloaded. \n",
    "SIG_PVAL = \"5e-8\" # significance threshold"
   ]
  },
  {
   "cell_type": "markdown",
   "id": "477dcd1e",
   "metadata": {
    "ExecuteTime": {
     "end_time": "2021-12-07T19:56:39.281496Z",
     "start_time": "2021-12-07T19:56:39.276002Z"
    }
   },
   "source": [
    "### set paths"
   ]
  },
  {
   "cell_type": "code",
   "execution_count": 5,
   "id": "a517b376",
   "metadata": {
    "ExecuteTime": {
     "end_time": "2021-12-08T00:36:31.995379Z",
     "start_time": "2021-12-08T00:36:31.985518Z"
    }
   },
   "outputs": [],
   "source": [
    "# Paths\n",
    "\n",
    "BASE_PATH = \"/\".join(os.getcwd().split(\"/\")[:-1]) # base directory level\n",
    "\n",
    "BIN_PATH = os.path.join(BASE_PATH, \"bin\")  # where my scripts live\n",
    "DATA_PATH = os.path.join(BASE_PATH, \"data\")  # where I dump new data.\n",
    "RESULTS_PATH = os.path.join(BASE_PATH, \"results\")  # where I analyze results\n",
    "SRC_PATH = os.path.join(BASE_PATH, \"src\")  # where any packages needed to run analyses live. "
   ]
  },
  {
   "cell_type": "markdown",
   "id": "789612af",
   "metadata": {},
   "source": [
    "### set bins"
   ]
  },
  {
   "cell_type": "code",
   "execution_count": 6,
   "id": "8cd56784",
   "metadata": {
    "ExecuteTime": {
     "end_time": "2021-12-08T00:36:32.005193Z",
     "start_time": "2021-12-08T00:36:31.998696Z"
    }
   },
   "outputs": [],
   "source": [
    "# Bins\n",
    "\n",
    "# script to filter for GWAS variants w/ SIG_PVAL\n",
    "CLEAN_GWAS = os.path.join(BIN_PATH, \"clean_gwas.py\")\n",
    "\n",
    "# script to run David Rinker's script\n",
    "LD_EXPAND = os.path.join(BIN_PATH, \"LD_expand_GWAS.py\")\n",
    "\n",
    "# David Rinker's LD-expansion script. \n",
    "LD_ASSOC_SCRIPT = os.path.join(BIN_PATH, \"assoc2LDSNPs_bed.py\")"
   ]
  },
  {
   "cell_type": "markdown",
   "id": "d9cedd35",
   "metadata": {
    "ExecuteTime": {
     "end_time": "2021-12-07T19:56:39.281496Z",
     "start_time": "2021-12-07T19:56:39.276002Z"
    }
   },
   "source": [
    "### writing sections of .ini file"
   ]
  },
  {
   "cell_type": "markdown",
   "id": "70a54c0e",
   "metadata": {},
   "source": [
    "#### Option1: create section w config.add_section(), config.set()"
   ]
  },
  {
   "cell_type": "code",
   "execution_count": 7,
   "id": "76f75372",
   "metadata": {
    "ExecuteTime": {
     "end_time": "2021-12-08T00:36:32.012938Z",
     "start_time": "2021-12-08T00:36:32.008720Z"
    }
   },
   "outputs": [],
   "source": [
    "# step 1 - create section\n",
    "\n",
    "# config.add_section(SECTION)\n",
    "\n",
    "config.add_section(\"PATH\")"
   ]
  },
  {
   "cell_type": "code",
   "execution_count": 8,
   "id": "def0e89a",
   "metadata": {
    "ExecuteTime": {
     "end_time": "2021-12-08T00:36:32.035399Z",
     "start_time": "2021-12-08T00:36:32.018270Z"
    }
   },
   "outputs": [],
   "source": [
    "# step 2 - add key, value to section\n",
    "\n",
    "# config.set(SECTION, key, value)\n",
    "\n",
    "config.set(\"PATH\", \"BIN\", BIN_PATH)\n",
    "config.set(\"PATH\", \"DATA\", DATA_PATH)\n",
    "config.set(\"PATH\", \"RESULTS\", RESULTS_PATH)\n",
    "config.set(\"PATH\", \"SRC\", SRC_PATH)"
   ]
  },
  {
   "cell_type": "markdown",
   "id": "68894ebd",
   "metadata": {},
   "source": [
    "#### Option2: create section as dictionary, piece-by-piece"
   ]
  },
  {
   "cell_type": "code",
   "execution_count": 9,
   "id": "1aa2118e",
   "metadata": {
    "ExecuteTime": {
     "end_time": "2021-12-08T00:36:32.043917Z",
     "start_time": "2021-12-08T00:36:32.037336Z"
    }
   },
   "outputs": [],
   "source": [
    "# config[SECTION][key]=value\n",
    "\n",
    "config.add_section(\"PARAMS\")\n",
    "\n",
    "config[\"PARAMS\"][\"POP\"] = POP\n",
    "config[\"PARAMS\"][\"DL_DATE\"] = DL_DATE\n",
    "config[\"PARAMS\"][\"SIG_PVAL\"] = SIG_PVAL"
   ]
  },
  {
   "cell_type": "markdown",
   "id": "a2f98098",
   "metadata": {},
   "source": [
    "#### Option3: create section as dictionary, one-fell-swoop"
   ]
  },
  {
   "cell_type": "code",
   "execution_count": 10,
   "id": "b1698782",
   "metadata": {
    "ExecuteTime": {
     "end_time": "2021-12-08T00:36:32.050142Z",
     "start_time": "2021-12-08T00:36:32.045867Z"
    }
   },
   "outputs": [],
   "source": [
    "# config[SECTION] = {\n",
    "#                    key1:val1,\n",
    "#                    key2:val2,\n",
    "#                    key3:val3\n",
    "# }\n",
    "\n",
    "\n",
    "config[\"BIN\"] = {\n",
    "    \"CLEAN_GWAS\":CLEAN_GWAS,\n",
    "    \"LD_EXPAND\":LD_EXPAND,\n",
    "    \"LD_ASSOC_SCRIPT\":LD_ASSOC_SCRIPT\n",
    "}"
   ]
  },
  {
   "cell_type": "markdown",
   "id": "791134b9",
   "metadata": {},
   "source": [
    "### set, add files"
   ]
  },
  {
   "cell_type": "code",
   "execution_count": 11,
   "id": "0f31cc08",
   "metadata": {
    "ExecuteTime": {
     "end_time": "2021-12-08T00:36:32.057189Z",
     "start_time": "2021-12-08T00:36:32.052437Z"
    }
   },
   "outputs": [],
   "source": [
    "config[\"FILE\"] = {\n",
    "        \"GWAS_CAT\": os.path.join(DATA_PATH, f\"gwasCatalog_{DL_DATE}_hg38.bed.gz\"),\n",
    "        \"GWAS_CAT_CLEAN\":os.path.join(DATA_PATH,f\"gwasCatalog_{DL_DATE}_hg38_cleaned_p5e-8.txt\"),\n",
    "        \"GWAS_CAT_CLEAN_BED\":os.path.join(DATA_PATH,f\"gwasCatalog_{DL_DATE}_hg38_cleaned_p5e-8.bed\"),\n",
    "        \"GWAS_CLEAN_LD\": os.path.join(DATA_PATH, f\"gwasCatalog_{DL_DATE}_hg38_cleaned_p5e-8_LD.bed\")\n",
    "        }"
   ]
  },
  {
   "cell_type": "markdown",
   "id": "cfac75ca",
   "metadata": {},
   "source": [
    "### write config file\n",
    "\n",
    "if-statement: to prevent you from overwriting existing config file"
   ]
  },
  {
   "cell_type": "code",
   "execution_count": 12,
   "id": "71f8af5a",
   "metadata": {
    "ExecuteTime": {
     "end_time": "2021-12-08T00:36:32.064031Z",
     "start_time": "2021-12-08T00:36:32.059508Z"
    }
   },
   "outputs": [],
   "source": [
    "if not os.path.isfile(configfile_name):\n",
    "    \n",
    "    with open(configfile_name, 'w') as configfile:\n",
    "        \n",
    "        config.write(configfile)  # write the config\n",
    "        \n",
    "        configfile.close()"
   ]
  },
  {
   "cell_type": "markdown",
   "id": "85a4aee5",
   "metadata": {},
   "source": [
    "### reading config.ini file"
   ]
  },
  {
   "cell_type": "code",
   "execution_count": 13,
   "id": "914ba7cc",
   "metadata": {
    "ExecuteTime": {
     "end_time": "2021-12-08T00:36:32.070157Z",
     "start_time": "2021-12-08T00:36:32.066746Z"
    }
   },
   "outputs": [],
   "source": [
    "import configparser "
   ]
  },
  {
   "cell_type": "code",
   "execution_count": 14,
   "id": "930e75a3",
   "metadata": {
    "ExecuteTime": {
     "end_time": "2021-12-08T00:36:32.087183Z",
     "start_time": "2021-12-08T00:36:32.072816Z"
    }
   },
   "outputs": [
    {
     "data": {
      "text/plain": [
       "['/gpfs51/dors2/capra_lab/users/fongsl/resources/tutorials/using_config_ini/bin/config_gwas.ini']"
      ]
     },
     "execution_count": 14,
     "metadata": {},
     "output_type": "execute_result"
    }
   ],
   "source": [
    "DEV = True\n",
    "\n",
    "if DEV is True: \n",
    "    \n",
    "    BASE_PATH = os.getcwd()\n",
    "    configfile_name = os.path.join(BASE_PATH, \"config_gwas.ini\")\n",
    "    \n",
    "else:\n",
    "    \n",
    "    # if running a script/pipeline in command line,\n",
    "    # you can import the config file \n",
    "    configfile_name = sys.argv[1]  \n",
    "    \n",
    "config = configparser.ConfigParser()\n",
    "config.read(configfile_name)"
   ]
  },
  {
   "cell_type": "code",
   "execution_count": 15,
   "id": "dd9eacb1",
   "metadata": {
    "ExecuteTime": {
     "end_time": "2021-12-08T00:36:32.092328Z",
     "start_time": "2021-12-08T00:36:32.089221Z"
    }
   },
   "outputs": [],
   "source": [
    "del configfile_name"
   ]
  },
  {
   "cell_type": "markdown",
   "id": "7c9c8f81",
   "metadata": {},
   "source": [
    "#### look at sections "
   ]
  },
  {
   "cell_type": "code",
   "execution_count": 16,
   "id": "04b54417",
   "metadata": {
    "ExecuteTime": {
     "end_time": "2021-12-08T00:36:32.099449Z",
     "start_time": "2021-12-08T00:36:32.094706Z"
    }
   },
   "outputs": [
    {
     "data": {
      "text/plain": [
       "['PATH', 'PARAMS', 'BIN', 'FILE']"
      ]
     },
     "execution_count": 16,
     "metadata": {},
     "output_type": "execute_result"
    }
   ],
   "source": [
    "config.sections()"
   ]
  },
  {
   "cell_type": "markdown",
   "id": "9daac23a",
   "metadata": {},
   "source": [
    "#### Retrieving values"
   ]
  },
  {
   "cell_type": "markdown",
   "id": "976200d3",
   "metadata": {},
   "source": [
    "##### get value from section w/ config.get(SECTION, key)"
   ]
  },
  {
   "cell_type": "code",
   "execution_count": 17,
   "id": "4949abd3",
   "metadata": {
    "ExecuteTime": {
     "end_time": "2021-12-08T00:36:32.107343Z",
     "start_time": "2021-12-08T00:36:32.102720Z"
    }
   },
   "outputs": [
    {
     "data": {
      "text/plain": [
       "'/gpfs51/dors2/capra_lab/users/fongsl/resources/tutorials/using_config_ini/data'"
      ]
     },
     "execution_count": 17,
     "metadata": {},
     "output_type": "execute_result"
    }
   ],
   "source": [
    "config.get(\"PATH\", \"DATA\") "
   ]
  },
  {
   "cell_type": "markdown",
   "id": "8096e1ec",
   "metadata": {},
   "source": [
    "##### get value from section w/ dictionary-like command"
   ]
  },
  {
   "cell_type": "code",
   "execution_count": 18,
   "id": "836bc50c",
   "metadata": {
    "ExecuteTime": {
     "end_time": "2021-12-08T00:36:32.115053Z",
     "start_time": "2021-12-08T00:36:32.109615Z"
    }
   },
   "outputs": [
    {
     "data": {
      "text/plain": [
       "'/gpfs51/dors2/capra_lab/users/fongsl/resources/tutorials/using_config_ini/data'"
      ]
     },
     "execution_count": 18,
     "metadata": {},
     "output_type": "execute_result"
    }
   ],
   "source": [
    "config[\"PATH\"][\"DATA\"]"
   ]
  },
  {
   "cell_type": "markdown",
   "id": "7bf761b1",
   "metadata": {},
   "source": [
    "##### remember, values are imported as str!"
   ]
  },
  {
   "cell_type": "code",
   "execution_count": 19,
   "id": "5b4d3136",
   "metadata": {
    "ExecuteTime": {
     "end_time": "2021-12-08T00:36:32.122934Z",
     "start_time": "2021-12-08T00:36:32.117421Z"
    }
   },
   "outputs": [
    {
     "data": {
      "text/plain": [
       "str"
      ]
     },
     "execution_count": 19,
     "metadata": {},
     "output_type": "execute_result"
    }
   ],
   "source": [
    "type(config[\"PARAMS\"][\"SIG_PVAL\"])"
   ]
  },
  {
   "cell_type": "markdown",
   "id": "441b9f0c",
   "metadata": {},
   "source": [
    "##### but you can import value as the datatype you want. "
   ]
  },
  {
   "cell_type": "code",
   "execution_count": 20,
   "id": "c59c05ab",
   "metadata": {
    "ExecuteTime": {
     "end_time": "2021-12-08T00:36:32.130807Z",
     "start_time": "2021-12-08T00:36:32.125274Z"
    }
   },
   "outputs": [
    {
     "data": {
      "text/plain": [
       "float"
      ]
     },
     "execution_count": 20,
     "metadata": {},
     "output_type": "execute_result"
    }
   ],
   "source": [
    "type(config.getfloat(\"PARAMS\", \"SIG_PVAL\"))"
   ]
  },
  {
   "cell_type": "markdown",
   "id": "3115dcd9",
   "metadata": {},
   "source": [
    "##### import value as something besides str."
   ]
  },
  {
   "cell_type": "code",
   "execution_count": 21,
   "id": "2ee3c26f",
   "metadata": {
    "ExecuteTime": {
     "end_time": "2021-12-08T00:36:32.136186Z",
     "start_time": "2021-12-08T00:36:32.133169Z"
    }
   },
   "outputs": [],
   "source": [
    "# config.getfloat(\"SECTION\", \"key\")  # returns value as float\n",
    "\n",
    "# config.getbool(\"SECTION\", \"key\")  # returns value as bool\n",
    "\n",
    "# config.getint(\"SECTION\", \"key\")  # returns value as int"
   ]
  }
 ],
 "metadata": {
  "kernelspec": {
   "display_name": "Python (sfenv)",
   "language": "python",
   "name": "sfenv"
  },
  "language_info": {
   "codemirror_mode": {
    "name": "ipython",
    "version": 3
   },
   "file_extension": ".py",
   "mimetype": "text/x-python",
   "name": "python",
   "nbconvert_exporter": "python",
   "pygments_lexer": "ipython3",
   "version": "3.6.6"
  },
  "toc": {
   "base_numbering": 1,
   "nav_menu": {},
   "number_sections": false,
   "sideBar": true,
   "skip_h1_title": false,
   "title_cell": "Table of Contents",
   "title_sidebar": "Contents",
   "toc_cell": false,
   "toc_position": {},
   "toc_section_display": true,
   "toc_window_display": false
  }
 },
 "nbformat": 4,
 "nbformat_minor": 5
}
