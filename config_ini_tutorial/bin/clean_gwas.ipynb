{
 "cells": [
  {
   "cell_type": "code",
   "execution_count": 1,
   "id": "31b4871c",
   "metadata": {
    "ExecuteTime": {
     "end_time": "2021-12-08T00:01:07.520548Z",
     "start_time": "2021-12-08T00:01:07.154488Z"
    }
   },
   "outputs": [],
   "source": [
    "import configparser\n",
    "import os\n",
    "import pandas as pd\n",
    "import sys\n",
    "import subprocess"
   ]
  },
  {
   "cell_type": "markdown",
   "id": "17249bc6",
   "metadata": {},
   "source": [
    "#  load config"
   ]
  },
  {
   "cell_type": "code",
   "execution_count": 8,
   "id": "717203dc",
   "metadata": {
    "ExecuteTime": {
     "end_time": "2021-12-08T00:04:44.091335Z",
     "start_time": "2021-12-08T00:04:44.076026Z"
    }
   },
   "outputs": [
    {
     "data": {
      "text/plain": [
       "['/gpfs51/dors2/capra_lab/users/fongsl/tutorials/using_config_ini/bin/config_gwas.ini']"
      ]
     },
     "execution_count": 8,
     "metadata": {},
     "output_type": "execute_result"
    }
   ],
   "source": [
    "DEV = True\n",
    "\n",
    "if DEV is True:\n",
    "    BASE_PATH=os.getcwd()\n",
    "    configfile_name = os.path.join(BASE_PATH, \"config_gwas.ini\") # name the file\n",
    "\n",
    "else:\n",
    "    configfile_name = sys.argv[1]\n",
    "    \n",
    "config = configparser.ConfigParser()\n",
    "config.read(configfile_name)"
   ]
  },
  {
   "cell_type": "markdown",
   "id": "c56a92a0",
   "metadata": {},
   "source": [
    "#  load parameters"
   ]
  },
  {
   "cell_type": "code",
   "execution_count": 3,
   "id": "d6e42ae8",
   "metadata": {
    "ExecuteTime": {
     "end_time": "2021-12-08T00:01:07.567989Z",
     "start_time": "2021-12-08T00:01:07.537555Z"
    }
   },
   "outputs": [],
   "source": [
    "GWAS_CAT = config[\"FILE\"][\"GWAS_CAT\"]  # read\n",
    "\n",
    "GWAS_CAT_CLEAN = config[\"FILE\"][\"GWAS_CAT_CLEAN\"]  # write\n",
    "GWAS_CAT_CLEAN_BED = config[\"FILE\"][\"GWAS_CAT_CLEAN_BED\"]  # write\n",
    "\n",
    "SIG_PVAL = config.getfloat(\"PARAMS\", \"SIG_PVAL\")"
   ]
  },
  {
   "cell_type": "markdown",
   "id": "e13142ae",
   "metadata": {},
   "source": [
    "# Functions"
   ]
  },
  {
   "cell_type": "code",
   "execution_count": 4,
   "id": "d7169fb9",
   "metadata": {
    "ExecuteTime": {
     "end_time": "2021-12-08T00:01:07.575621Z",
     "start_time": "2021-12-08T00:01:07.569995Z"
    }
   },
   "outputs": [],
   "source": [
    "def clean_gwas_catalog(gwas_cat_file, sig_pval, gwas_cat_clean_file, gwas_cat_clean_bed):\n",
    "    \n",
    "    # open the file\n",
    "    df = pd.read_csv(gwas_cat_file, sep = '\\t', nrows = 500)  \n",
    "\n",
    "    # filter for significant P-values\n",
    "    clean = df.loc[df[\"P-VALUE\"].astype(float) < sig_pval]  \n",
    "\n",
    "    # write filtered table\n",
    "    clean.to_csv(gwas_cat_clean_file, sep = '\\t', index = False)  \n",
    "    \n",
    "    print(\"cleaned project file\", df.shape[0], \"to\", clean.shape[0])\n",
    "    \n",
    "    # make a .bed-like dataframe\n",
    "    clean_coor = clean[[\"#CHR\", \"START\", \"END\", \"SNPS\"]].drop_duplicates()\n",
    "    \n",
    "    # write bed coordinates\n",
    "    clean_coor.to_csv(gwas_cat_clean_bed, sep ='\\t', index = False)"
   ]
  },
  {
   "cell_type": "markdown",
   "id": "6d1e87cc",
   "metadata": {},
   "source": [
    "# Main"
   ]
  },
  {
   "cell_type": "code",
   "execution_count": 5,
   "id": "52535bdc",
   "metadata": {
    "ExecuteTime": {
     "end_time": "2021-12-08T00:01:07.584461Z",
     "start_time": "2021-12-08T00:01:07.578059Z"
    }
   },
   "outputs": [
    {
     "name": "stdout",
     "output_type": "stream",
     "text": [
      "already cleaned this gwas file\n"
     ]
    }
   ],
   "source": [
    "def main(argv):\n",
    "    if os.path.exists(GWAS_CAT_CLEAN_BED) is False:\n",
    "\n",
    "        clean_gwas_catalog(GWAS_CAT, SIG_PVAL, GWAS_CAT_CLEAN, GWAS_CAT_CLEAN_BED)\n",
    "\n",
    "    else:\n",
    "        print(\"already cleaned this gwas file\")\n",
    "\n",
    "if __name__ == \"__main__\":\n",
    "    main(sys.argv[1:])"
   ]
  },
  {
   "cell_type": "markdown",
   "id": "e65bf20d",
   "metadata": {},
   "source": [
    "# write notebook as .py"
   ]
  },
  {
   "cell_type": "code",
   "execution_count": 6,
   "id": "fb0359ae",
   "metadata": {
    "ExecuteTime": {
     "end_time": "2021-12-08T00:01:09.473167Z",
     "start_time": "2021-12-08T00:01:07.586405Z"
    }
   },
   "outputs": [
    {
     "data": {
      "text/plain": [
       "0"
      ]
     },
     "execution_count": 6,
     "metadata": {},
     "output_type": "execute_result"
    }
   ],
   "source": [
    "NAME= \"clean_gwas\"\n",
    "cmd = f\"jupyter nbconvert --to python {NAME}.ipynb\"\n",
    "subprocess.call(cmd, shell = True)"
   ]
  },
  {
   "cell_type": "code",
   "execution_count": null,
   "id": "dfc5349a",
   "metadata": {},
   "outputs": [],
   "source": []
  }
 ],
 "metadata": {
  "kernelspec": {
   "display_name": "Python (sfenv)",
   "language": "python",
   "name": "sfenv"
  },
  "language_info": {
   "codemirror_mode": {
    "name": "ipython",
    "version": 3
   },
   "file_extension": ".py",
   "mimetype": "text/x-python",
   "name": "python",
   "nbconvert_exporter": "python",
   "pygments_lexer": "ipython3",
   "version": "3.6.6"
  },
  "toc": {
   "base_numbering": 1,
   "nav_menu": {},
   "number_sections": true,
   "sideBar": true,
   "skip_h1_title": false,
   "title_cell": "Table of Contents",
   "title_sidebar": "Contents",
   "toc_cell": false,
   "toc_position": {},
   "toc_section_display": true,
   "toc_window_display": false
  }
 },
 "nbformat": 4,
 "nbformat_minor": 5
}
