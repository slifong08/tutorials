{
 "cells": [
  {
   "cell_type": "code",
   "execution_count": 1,
   "id": "904cec0d",
   "metadata": {
    "ExecuteTime": {
     "end_time": "2021-12-08T00:38:06.197119Z",
     "start_time": "2021-12-08T00:38:06.181897Z"
    }
   },
   "outputs": [],
   "source": [
    "import configparser \n",
    "import os\n",
    "import sys\n",
    "import subprocess"
   ]
  },
  {
   "cell_type": "markdown",
   "id": "40483d6f",
   "metadata": {},
   "source": [
    "# load config.ini "
   ]
  },
  {
   "cell_type": "code",
   "execution_count": 6,
   "id": "e63074c9",
   "metadata": {
    "ExecuteTime": {
     "end_time": "2021-12-08T00:38:53.309269Z",
     "start_time": "2021-12-08T00:38:53.296652Z"
    }
   },
   "outputs": [
    {
     "data": {
      "text/plain": [
       "['/gpfs51/dors2/capra_lab/users/fongsl/resources/tutorials/using_config_ini/bin/config_gwas.ini']"
      ]
     },
     "execution_count": 6,
     "metadata": {},
     "output_type": "execute_result"
    }
   ],
   "source": [
    "DEV = True\n",
    "\n",
    "if DEV is True:\n",
    "    \n",
    "    BASE_PATH=os.getcwd()\n",
    "    configfile_name = os.path.join(BASE_PATH, \"config_gwas.ini\") # name the file\n",
    "else:\n",
    "    configfile_name = sys.argv[1]\n",
    "    \n",
    "    \n",
    "config = configparser.ConfigParser()\n",
    "config.read(configfile_name)"
   ]
  },
  {
   "cell_type": "markdown",
   "id": "9e9d7003",
   "metadata": {},
   "source": [
    "# load parameters "
   ]
  },
  {
   "cell_type": "code",
   "execution_count": 7,
   "id": "ea11e36e",
   "metadata": {
    "ExecuteTime": {
     "end_time": "2021-12-08T00:38:54.243422Z",
     "start_time": "2021-12-08T00:38:54.237107Z"
    }
   },
   "outputs": [],
   "source": [
    "CLEAN_GWAS = config[\"BIN\"][\"CLEAN_GWAS\"]  # clean_gwas.py\n",
    "LD_EXPAND = config[\"BIN\"][\"LD_EXPAND\"]  # LD_expand_gwas.py\n",
    "\n",
    "BIN_PATH = config[\"PATH\"][\"BIN\"] # path to ./bin"
   ]
  },
  {
   "cell_type": "markdown",
   "id": "62073c0e",
   "metadata": {},
   "source": [
    "# Functions "
   ]
  },
  {
   "cell_type": "code",
   "execution_count": null,
   "id": "6af7d921",
   "metadata": {},
   "outputs": [],
   "source": [
    "def run_cmd(args_list):\n",
    "    cmd_list = [\"python\"]\n",
    "    script_ = os.path.join(BIN_PATH, args_list[0])\n",
    "    cmd_list.append(script_)\n",
    "    \n",
    "    if len(args_list)>1:\n",
    "        for i in args_list[1:]:\n",
    "            cmd_list.append(i)\n",
    "    \n",
    "    cmd = \" \".join(cmd_list)\n",
    "    print(cmd)\n",
    "    \n",
    "    # pipe the command list and get output\n",
    "    process = subprocess.Popen(cmd_list, stderr=subprocess.PIPE, stdout=subprocess.PIPE) \n",
    "    stdout, stderr = process.communicate()\n",
    "    exit_code = process.wait()\n",
    "\n",
    "    print(stdout, stderr, exit_code)"
   ]
  },
  {
   "cell_type": "markdown",
   "id": "f23ce66e",
   "metadata": {},
   "source": [
    "# run pipeline "
   ]
  },
  {
   "cell_type": "code",
   "execution_count": null,
   "id": "89bae7d5",
   "metadata": {},
   "outputs": [],
   "source": [
    "# clean gwas\n",
    "\n",
    "clean_list = [CLEAN_GWAS, configfile_name]\n",
    "\n",
    "run_cmd(clean_list)"
   ]
  },
  {
   "cell_type": "code",
   "execution_count": null,
   "id": "aca2d2a3",
   "metadata": {},
   "outputs": [],
   "source": [
    "# LD expand the cleaned list\n",
    "\n",
    "ld_list = [LD_EXPAND, configfile_name]\n",
    "\n",
    "run_cmd(ld_list)"
   ]
  },
  {
   "cell_type": "code",
   "execution_count": null,
   "id": "7f5a6b77",
   "metadata": {},
   "outputs": [],
   "source": []
  }
 ],
 "metadata": {
  "kernelspec": {
   "display_name": "Python (sfenv)",
   "language": "python",
   "name": "sfenv"
  },
  "language_info": {
   "codemirror_mode": {
    "name": "ipython",
    "version": 3
   },
   "file_extension": ".py",
   "mimetype": "text/x-python",
   "name": "python",
   "nbconvert_exporter": "python",
   "pygments_lexer": "ipython3",
   "version": "3.6.6"
  },
  "toc": {
   "base_numbering": 1,
   "nav_menu": {},
   "number_sections": true,
   "sideBar": true,
   "skip_h1_title": false,
   "title_cell": "Table of Contents",
   "title_sidebar": "Contents",
   "toc_cell": false,
   "toc_position": {},
   "toc_section_display": true,
   "toc_window_display": false
  }
 },
 "nbformat": 4,
 "nbformat_minor": 5
}
