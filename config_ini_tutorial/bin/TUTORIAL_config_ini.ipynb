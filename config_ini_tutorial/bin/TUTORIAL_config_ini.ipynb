{
 "cells": [
  {
   "cell_type": "markdown",
   "id": "86288da9",
   "metadata": {},
   "source": [
    "# Overview\n",
    "20211207\n",
    "\n",
    "sarahfong\n",
    "\n",
    "Managing projects, crafting config files, using config files to build pipelines"
   ]
  },
  {
   "cell_type": "markdown",
   "id": "6e651e2b",
   "metadata": {},
   "source": [
    "# General principles\n",
    "Lifted from: \n",
    "\n",
    "Noble WS (2009) A Quick Guide to Organizing Computational Biology Projects. PLOS Computational Biology 5(7): e1000424. https://doi.org/10.1371/journal.pcbi.1000424"
   ]
  },
  {
   "cell_type": "markdown",
   "id": "ee126772",
   "metadata": {},
   "source": [
    "1. Record every operation.\n",
    "2. Comment. Comment. Comment!\n",
    "3. Automate everything you can. (Avoid editing by hand).\n",
    "4. Use config file for storing file/directory names   \n",
    "5. Use a driver script to control auxiliary scripts. \n",
    "6. Experiment scripts | Summary/analysis scripts\n",
    "7. Use relative paths, not absolute path. \n",
    "8. \"Restart-ability\"\n",
    "\n",
    "\n",
    "Pro-tip: USE CAPS FOR CONSTANTS"
   ]
  },
  {
   "cell_type": "markdown",
   "id": "ddef58c3",
   "metadata": {},
   "source": [
    "# Project directory "
   ]
  },
  {
   "cell_type": "markdown",
   "id": "9e96adec",
   "metadata": {},
   "source": [
    "Project directory should be organized this way:\n",
    "\n",
    "    ./project/\n",
    "    \n",
    "    ./project/src/  # programs\n",
    "    ./project/data/  # datasets \n",
    "    ./project/bin/  # scripts\n",
    "    ./project/results/  # analyses\n",
    "    ./project/manuscripts/  # all papers written from this work. "
   ]
  },
  {
   "cell_type": "markdown",
   "id": "59139780",
   "metadata": {},
   "source": [
    "# Pipelines"
   ]
  },
  {
   "cell_type": "markdown",
   "id": "26f37723",
   "metadata": {},
   "source": [
    "## Driver scripts\n",
    "Driver script: Script that link many auxiliary scripts together into a pipeline"
   ]
  },
  {
   "cell_type": "markdown",
   "id": "e26eb908",
   "metadata": {},
   "source": [
    "Here, I'll make a pipeline to do GWAS CATALOG LD expansion\n",
    "\n",
    "Where I have written separate scripts that,\n",
    "1. Select GWAS variants w/ pvalue < 5e-8\n",
    "2. LD expand significant GWAS variants\n",
    "\n",
    "Broadly, I want my driver script to:\n",
    "\n",
    "Take input: config.ini file \n",
    "\n",
    "run scripts using config: clean_gwas.py, LD_expand_gwas.py\n",
    "\n",
    "output: LD-expanded significant GWAS variants. \n"
   ]
  },
  {
   "cell_type": "markdown",
   "id": "2e840f9a",
   "metadata": {},
   "source": [
    "# Config.ini file"
   ]
  },
  {
   "cell_type": "markdown",
   "id": "bb46b6c7",
   "metadata": {},
   "source": [
    "## config.ini overview \n",
    "\n",
    "Config file\n",
    "\n",
    "Purpose - store data files, paths "
   ]
  },
  {
   "cell_type": "markdown",
   "id": "2f77f90a",
   "metadata": {},
   "source": [
    "### Components of .ini files"
   ]
  },
  {
   "cell_type": "markdown",
   "id": "05d50631",
   "metadata": {},
   "source": [
    "###### a section is a like a python dictionary, has keys and values \n",
    "\n",
    "    [Section]  # case sensitive\n",
    "    Key=Value  # not case sensitive"
   ]
  },
  {
   "cell_type": "markdown",
   "id": "a9946a8d",
   "metadata": {},
   "source": [
    "#### .ini features\n",
    "\n",
    "- str document\n",
    "\n",
    "- key=value | key:value\n",
    "\n",
    "- key w spaces=allowed\n",
    "\n",
    "- key=value w spaces allowed\n",
    "\n",
    "- key wo value allowed\n",
    "\n",
    "- key=multiline\n",
    "    value is allowed\n",
    "    as long as indented further than value's first line "
   ]
  },
  {
   "cell_type": "markdown",
   "id": "e96a13af",
   "metadata": {},
   "source": [
    "### examples"
   ]
  },
  {
   "cell_type": "markdown",
   "id": "5043849b",
   "metadata": {},
   "source": [
    "#### section + str formatting"
   ]
  },
  {
   "cell_type": "raw",
   "id": "17a502ef",
   "metadata": {
    "ExecuteTime": {
     "end_time": "2021-12-07T23:52:28.819476Z",
     "start_time": "2021-12-07T23:52:28.809758Z"
    }
   },
   "source": [
    "[Simple Values]  # a section\n",
    "key=value  # keys are assigned values. Like dictionary. \n",
    "spaces in keys=allowed \n",
    "spaces in values=allowed as well\n",
    "spaces around the delimiter = obviously\n",
    "use \"=\" or \":\"to delimit keys from values # key=value or key:value"
   ]
  },
  {
   "cell_type": "markdown",
   "id": "52405a14",
   "metadata": {},
   "source": [
    "#### int and float formatting"
   ]
  },
  {
   "cell_type": "raw",
   "id": "c7e7b745",
   "metadata": {
    "ExecuteTime": {
     "end_time": "2021-12-07T23:52:28.824776Z",
     "start_time": "2021-12-07T23:52:28.732Z"
    }
   },
   "source": [
    "[All Values Are Strings]\n",
    "values like this: 1000000\n",
    "or this: 3.14159265359\n",
    "are they treated as numbers? : no\n",
    "integers, floats and booleans are held as: strings\n",
    "can use the API to get converted values directly: true"
   ]
  },
  {
   "cell_type": "markdown",
   "id": "1b23cfb7",
   "metadata": {},
   "source": [
    "#### multiline values"
   ]
  },
  {
   "cell_type": "raw",
   "id": "4aa1217a",
   "metadata": {
    "ExecuteTime": {
     "end_time": "2021-12-07T23:52:28.828022Z",
     "start_time": "2021-12-07T23:52:28.736Z"
    }
   },
   "source": [
    "[Multiline Values]\n",
    "chorus: I'm a lumberjack, and I'm okay\n",
    "    I sleep all night and I work all day"
   ]
  },
  {
   "cell_type": "markdown",
   "id": "5dc0c0c6",
   "metadata": {},
   "source": [
    "#### empty values"
   ]
  },
  {
   "cell_type": "raw",
   "id": "8c65c9eb",
   "metadata": {
    "ExecuteTime": {
     "end_time": "2021-12-07T23:52:28.937909Z",
     "start_time": "2021-12-07T23:52:28.930966Z"
    }
   },
   "source": [
    "[No Values]\n",
    "key_without_value\n",
    "empty string value here ="
   ]
  },
  {
   "cell_type": "markdown",
   "id": "a5aa5dd8",
   "metadata": {},
   "source": [
    "####  comments"
   ]
  },
  {
   "cell_type": "markdown",
   "id": "b078f330",
   "metadata": {
    "ExecuteTime": {
     "end_time": "2021-12-07T23:52:28.942694Z",
     "start_time": "2021-12-07T23:52:28.744Z"
    }
   },
   "source": [
    "[You can use comments]\n",
    "\n",
    "\n",
    "\\# like this\n",
    "\n",
    "; or this"
   ]
  },
  {
   "cell_type": "markdown",
   "id": "bfdd8c13",
   "metadata": {},
   "source": [
    "#### indentations"
   ]
  },
  {
   "cell_type": "raw",
   "id": "694947be",
   "metadata": {
    "ExecuteTime": {
     "end_time": "2021-12-07T23:52:28.945828Z",
     "start_time": "2021-12-07T23:52:28.748Z"
    }
   },
   "source": [
    "# By default only in an empty line.\n",
    "# Inline comments can be harmful because they prevent users\n",
    "# from using the delimiting characters as parts of values.\n",
    "# That being said, this can be customized.\n",
    "\n",
    "    [Sections Can Be Indented]\n",
    "        can_values_be_as_well = True\n",
    "        does_that_mean_anything_special = False\n",
    "        purpose = formatting for readability\n",
    "        multiline_values = are\n",
    "            handled just fine as\n",
    "            long as they are indented\n",
    "            deeper than the first line\n",
    "            of a value\n",
    "        # Did I mention we can indent comments, too?"
   ]
  },
  {
   "cell_type": "markdown",
   "id": "29613b8b",
   "metadata": {},
   "source": [
    "#### interpolations"
   ]
  },
  {
   "cell_type": "raw",
   "id": "101c7c4d",
   "metadata": {
    "ExecuteTime": {
     "end_time": "2021-12-07T23:52:28.948941Z",
     "start_time": "2021-12-07T23:52:28.751Z"
    }
   },
   "source": [
    "[Paths]\n",
    "home_dir: /Users\n",
    "my_dir: %(home_dir)s/lumberjack\n",
    "my_pictures: %(my_dir)s/Pictures\n",
    "\n",
    "[Escape]\n",
    "gain: 80%%  # use a %% to escape the % sign (% is the only character that needs to be escaped)"
   ]
  },
  {
   "cell_type": "markdown",
   "id": "ba110d69",
   "metadata": {},
   "source": [
    "# Creating/using config.ini file "
   ]
  },
  {
   "cell_type": "markdown",
   "id": "734f198d",
   "metadata": {},
   "source": [
    "## configparser\n",
    "\n",
    "Python library to read and write config files\n",
    "\n",
    "https://docs.python.org/3/library/configparser.html\n",
    "\n",
    "    pip install configparser\n",
    "    \n",
    "    conda install -c anaconda configparser \n",
    "    \n"
   ]
  },
  {
   "cell_type": "markdown",
   "id": "363adf6b",
   "metadata": {},
   "source": [
    "## Example driver script to write config.ini"
   ]
  },
  {
   "cell_type": "code",
   "execution_count": 1,
   "id": "cfa0cf11",
   "metadata": {
    "ExecuteTime": {
     "end_time": "2021-12-08T00:38:44.974569Z",
     "start_time": "2021-12-08T00:38:44.956112Z"
    }
   },
   "outputs": [],
   "source": [
    "import os\n",
    "import configparser"
   ]
  },
  {
   "cell_type": "code",
   "execution_count": 2,
   "id": "4f883038",
   "metadata": {
    "ExecuteTime": {
     "end_time": "2021-12-08T00:38:44.997049Z",
     "start_time": "2021-12-08T00:38:44.978447Z"
    }
   },
   "outputs": [],
   "source": [
    "BASE_PATH = os.getcwd()\n",
    "configfile_name = os.path.join(BASE_PATH, \"config_gwas.ini\") # name the file"
   ]
  },
  {
   "cell_type": "markdown",
   "id": "44fbde0f",
   "metadata": {},
   "source": [
    "### call configparser"
   ]
  },
  {
   "cell_type": "code",
   "execution_count": 3,
   "id": "e83a83e2",
   "metadata": {
    "ExecuteTime": {
     "end_time": "2021-12-08T00:38:45.008254Z",
     "start_time": "2021-12-08T00:38:45.003303Z"
    }
   },
   "outputs": [],
   "source": [
    "# Add content to the file\n",
    "config = configparser.ConfigParser()"
   ]
  },
  {
   "cell_type": "markdown",
   "id": "53c42d4c",
   "metadata": {},
   "source": [
    "### set parameters"
   ]
  },
  {
   "cell_type": "code",
   "execution_count": 4,
   "id": "cf8ba65d",
   "metadata": {
    "ExecuteTime": {
     "end_time": "2021-12-08T00:38:45.017481Z",
     "start_time": "2021-12-08T00:38:45.012344Z"
    }
   },
   "outputs": [],
   "source": [
    "# Parameters\n",
    "POP = \"EUR\"  # LD panel in 1000G\n",
    "DL_DATE = \"2021-10-25\"  # date GWAS catalog was last downloaded. \n",
    "SIG_PVAL = \"5e-8\" # significance threshold"
   ]
  },
  {
   "cell_type": "markdown",
   "id": "477dcd1e",
   "metadata": {
    "ExecuteTime": {
     "end_time": "2021-12-07T19:56:39.281496Z",
     "start_time": "2021-12-07T19:56:39.276002Z"
    }
   },
   "source": [
    "### set paths"
   ]
  },
  {
   "cell_type": "code",
   "execution_count": 5,
   "id": "a517b376",
   "metadata": {
    "ExecuteTime": {
     "end_time": "2021-12-08T00:38:45.030342Z",
     "start_time": "2021-12-08T00:38:45.021116Z"
    }
   },
   "outputs": [],
   "source": [
    "# Paths\n",
    "BASE_PATH = \"/\".join(os.getcwd().split(\"/\")[:-1]) # base directory level\n",
    "\n",
    "BIN_PATH = os.path.join(BASE_PATH, \"bin\")  # where my scripts live\n",
    "DATA_PATH = os.path.join(BASE_PATH, \"data\")  # where I dump new data.\n",
    "RESULTS_PATH = os.path.join(BASE_PATH, \"results\")  # where I analyze results\n",
    "SRC_PATH = os.path.join(BASE_PATH, \"src\")  # where any packages needed to run analyses live. "
   ]
  },
  {
   "cell_type": "markdown",
   "id": "789612af",
   "metadata": {},
   "source": [
    "### set bins"
   ]
  },
  {
   "cell_type": "code",
   "execution_count": 6,
   "id": "8cd56784",
   "metadata": {
    "ExecuteTime": {
     "end_time": "2021-12-08T00:38:45.039761Z",
     "start_time": "2021-12-08T00:38:45.033489Z"
    }
   },
   "outputs": [],
   "source": [
    "# Bins\n",
    "\n",
    "# script to filter for GWAS variants w/ SIG_PVAL\n",
    "CLEAN_GWAS = os.path.join(BIN_PATH, \"clean_gwas.py\")\n",
    "\n",
    "# script to run David Rinker's script\n",
    "LD_EXPAND = os.path.join(BIN_PATH, \"LD_expand_GWAS.py\")\n",
    "\n",
    "# David Rinker's LD-expansion script. \n",
    "LD_ASSOC_SCRIPT = os.path.join(BIN_PATH, \"assoc2LDSNPs_bed.py\")"
   ]
  },
  {
   "cell_type": "markdown",
   "id": "d9cedd35",
   "metadata": {
    "ExecuteTime": {
     "end_time": "2021-12-07T19:56:39.281496Z",
     "start_time": "2021-12-07T19:56:39.276002Z"
    }
   },
   "source": [
    "### writing sections of .ini file"
   ]
  },
  {
   "cell_type": "markdown",
   "id": "70a54c0e",
   "metadata": {},
   "source": [
    "#### Option1: create section w config.add_section(), config.set()"
   ]
  },
  {
   "cell_type": "code",
   "execution_count": 7,
   "id": "76f75372",
   "metadata": {
    "ExecuteTime": {
     "end_time": "2021-12-08T00:38:45.057583Z",
     "start_time": "2021-12-08T00:38:45.042513Z"
    }
   },
   "outputs": [],
   "source": [
    "# step 1 - create section\n",
    "\n",
    "# config.add_section(SECTION)\n",
    "\n",
    "config.add_section(\"PATH\")"
   ]
  },
  {
   "cell_type": "code",
   "execution_count": 8,
   "id": "def0e89a",
   "metadata": {
    "ExecuteTime": {
     "end_time": "2021-12-08T00:38:45.066392Z",
     "start_time": "2021-12-08T00:38:45.062135Z"
    }
   },
   "outputs": [],
   "source": [
    "# step 2 - add key, value to section\n",
    "\n",
    "# config.set(SECTION, key, value)\n",
    "\n",
    "config.set(\"PATH\", \"BIN\", BIN_PATH)\n",
    "config.set(\"PATH\", \"DATA\", DATA_PATH)\n",
    "config.set(\"PATH\", \"RESULTS\", RESULTS_PATH)\n",
    "config.set(\"PATH\", \"SRC\", SRC_PATH)"
   ]
  },
  {
   "cell_type": "markdown",
   "id": "68894ebd",
   "metadata": {},
   "source": [
    "#### Option2: create section as dictionary, piece-by-piece"
   ]
  },
  {
   "cell_type": "code",
   "execution_count": 9,
   "id": "1aa2118e",
   "metadata": {
    "ExecuteTime": {
     "end_time": "2021-12-08T00:38:45.074488Z",
     "start_time": "2021-12-08T00:38:45.069754Z"
    }
   },
   "outputs": [],
   "source": [
    "# config[SECTION][key]=value\n",
    "\n",
    "config.add_section(\"PARAMS\")\n",
    "\n",
    "config[\"PARAMS\"][\"POP\"] = POP\n",
    "config[\"PARAMS\"][\"DL_DATE\"] = DL_DATE\n",
    "config[\"PARAMS\"][\"SIG_PVAL\"] = SIG_PVAL"
   ]
  },
  {
   "cell_type": "markdown",
   "id": "a2f98098",
   "metadata": {},
   "source": [
    "#### Option3: create section as dictionary, one-fell-swoop"
   ]
  },
  {
   "cell_type": "code",
   "execution_count": 10,
   "id": "b1698782",
   "metadata": {
    "ExecuteTime": {
     "end_time": "2021-12-08T00:38:45.080472Z",
     "start_time": "2021-12-08T00:38:45.076762Z"
    }
   },
   "outputs": [],
   "source": [
    "# config[SECTION] = {\n",
    "#                    key1:val1,\n",
    "#                    key2:val2,\n",
    "#                    key3:val3\n",
    "# }\n",
    "\n",
    "\n",
    "config[\"BIN\"] = {\n",
    "    \"CLEAN_GWAS\":CLEAN_GWAS,\n",
    "    \"LD_EXPAND\":LD_EXPAND,\n",
    "    \"LD_ASSOC_SCRIPT\":LD_ASSOC_SCRIPT\n",
    "}"
   ]
  },
  {
   "cell_type": "markdown",
   "id": "791134b9",
   "metadata": {},
   "source": [
    "### set, add files"
   ]
  },
  {
   "cell_type": "code",
   "execution_count": 11,
   "id": "0f31cc08",
   "metadata": {
    "ExecuteTime": {
     "end_time": "2021-12-08T00:38:45.088211Z",
     "start_time": "2021-12-08T00:38:45.082980Z"
    }
   },
   "outputs": [],
   "source": [
    "config[\"FILE\"] = {\n",
    "        \"GWAS_CAT\": os.path.join(DATA_PATH, f\"gwasCatalog_{DL_DATE}_hg38.bed.gz\"),\n",
    "        \"GWAS_CAT_CLEAN\":os.path.join(DATA_PATH,f\"gwasCatalog_{DL_DATE}_hg38_cleaned_p5e-8.txt\"),\n",
    "        \"GWAS_CAT_CLEAN_BED\":os.path.join(DATA_PATH,f\"gwasCatalog_{DL_DATE}_hg38_cleaned_p5e-8.bed\"),\n",
    "        \"GWAS_CLEAN_LD\": os.path.join(DATA_PATH, f\"gwasCatalog_{DL_DATE}_hg38_cleaned_p5e-8_LD.bed\")\n",
    "        }"
   ]
  },
  {
   "cell_type": "markdown",
   "id": "cfac75ca",
   "metadata": {},
   "source": [
    "### write config file\n",
    "\n",
    "if-statement: to prevent you from overwriting existing config file"
   ]
  },
  {
   "cell_type": "code",
   "execution_count": 12,
   "id": "71f8af5a",
   "metadata": {
    "ExecuteTime": {
     "end_time": "2021-12-08T00:38:45.096372Z",
     "start_time": "2021-12-08T00:38:45.090579Z"
    }
   },
   "outputs": [],
   "source": [
    "if not os.path.isfile(configfile_name):\n",
    "    \n",
    "    with open(configfile_name, 'w') as configfile:\n",
    "        \n",
    "        config.write(configfile)  # write the config\n",
    "        \n",
    "        configfile.close()"
   ]
  },
  {
   "cell_type": "markdown",
   "id": "85a4aee5",
   "metadata": {},
   "source": [
    "### reading config.ini file"
   ]
  },
  {
   "cell_type": "code",
   "execution_count": 13,
   "id": "914ba7cc",
   "metadata": {
    "ExecuteTime": {
     "end_time": "2021-12-08T00:38:45.101173Z",
     "start_time": "2021-12-08T00:38:45.098086Z"
    }
   },
   "outputs": [],
   "source": [
    "import configparser "
   ]
  },
  {
   "cell_type": "code",
   "execution_count": 14,
   "id": "930e75a3",
   "metadata": {
    "ExecuteTime": {
     "end_time": "2021-12-08T00:38:45.117545Z",
     "start_time": "2021-12-08T00:38:45.103301Z"
    }
   },
   "outputs": [
    {
     "data": {
      "text/plain": [
       "['/gpfs51/dors2/capra_lab/users/fongsl/resources/tutorials/using_config_ini/bin/config_gwas.ini']"
      ]
     },
     "execution_count": 14,
     "metadata": {},
     "output_type": "execute_result"
    }
   ],
   "source": [
    "DEV = True\n",
    "\n",
    "if DEV is True: \n",
    "    \n",
    "    BASE_PATH = os.getcwd()\n",
    "    configfile_name = os.path.join(BASE_PATH, \"config_gwas.ini\")\n",
    "    \n",
    "else:\n",
    "    \n",
    "    # if running a script/pipeline in command line,\n",
    "    # you can import the config file \n",
    "    configfile_name = sys.argv[1]  \n",
    "    \n",
    "config = configparser.ConfigParser()\n",
    "config.read(configfile_name)"
   ]
  },
  {
   "cell_type": "code",
   "execution_count": 15,
   "id": "dd9eacb1",
   "metadata": {
    "ExecuteTime": {
     "end_time": "2021-12-08T00:38:45.123669Z",
     "start_time": "2021-12-08T00:38:45.119518Z"
    }
   },
   "outputs": [],
   "source": [
    "del configfile_name"
   ]
  },
  {
   "cell_type": "markdown",
   "id": "7c9c8f81",
   "metadata": {},
   "source": [
    "#### look at sections "
   ]
  },
  {
   "cell_type": "code",
   "execution_count": 16,
   "id": "04b54417",
   "metadata": {
    "ExecuteTime": {
     "end_time": "2021-12-08T00:38:45.133363Z",
     "start_time": "2021-12-08T00:38:45.125608Z"
    }
   },
   "outputs": [
    {
     "data": {
      "text/plain": [
       "['PATH', 'PARAMS', 'BIN', 'FILE']"
      ]
     },
     "execution_count": 16,
     "metadata": {},
     "output_type": "execute_result"
    }
   ],
   "source": [
    "config.sections()"
   ]
  },
  {
   "cell_type": "markdown",
   "id": "9daac23a",
   "metadata": {},
   "source": [
    "#### Retrieving values"
   ]
  },
  {
   "cell_type": "markdown",
   "id": "976200d3",
   "metadata": {},
   "source": [
    "##### get value from section w/ config.get(SECTION, key)"
   ]
  },
  {
   "cell_type": "code",
   "execution_count": 17,
   "id": "4949abd3",
   "metadata": {
    "ExecuteTime": {
     "end_time": "2021-12-08T00:38:45.140168Z",
     "start_time": "2021-12-08T00:38:45.135512Z"
    }
   },
   "outputs": [
    {
     "data": {
      "text/plain": [
       "'/gpfs51/dors2/capra_lab/users/fongsl/resources/tutorials/using_config_ini/data'"
      ]
     },
     "execution_count": 17,
     "metadata": {},
     "output_type": "execute_result"
    }
   ],
   "source": [
    "config.get(\"PATH\", \"DATA\") "
   ]
  },
  {
   "cell_type": "markdown",
   "id": "8096e1ec",
   "metadata": {},
   "source": [
    "##### get value from section w/ dictionary-like command"
   ]
  },
  {
   "cell_type": "code",
   "execution_count": 18,
   "id": "836bc50c",
   "metadata": {
    "ExecuteTime": {
     "end_time": "2021-12-08T00:38:45.148692Z",
     "start_time": "2021-12-08T00:38:45.142203Z"
    }
   },
   "outputs": [
    {
     "data": {
      "text/plain": [
       "'/gpfs51/dors2/capra_lab/users/fongsl/resources/tutorials/using_config_ini/data'"
      ]
     },
     "execution_count": 18,
     "metadata": {},
     "output_type": "execute_result"
    }
   ],
   "source": [
    "config[\"PATH\"][\"DATA\"]"
   ]
  },
  {
   "cell_type": "markdown",
   "id": "7bf761b1",
   "metadata": {},
   "source": [
    "##### remember, values are imported as str!"
   ]
  },
  {
   "cell_type": "code",
   "execution_count": 19,
   "id": "5b4d3136",
   "metadata": {
    "ExecuteTime": {
     "end_time": "2021-12-08T00:38:45.155922Z",
     "start_time": "2021-12-08T00:38:45.151042Z"
    }
   },
   "outputs": [
    {
     "data": {
      "text/plain": [
       "str"
      ]
     },
     "execution_count": 19,
     "metadata": {},
     "output_type": "execute_result"
    }
   ],
   "source": [
    "type(config[\"PARAMS\"][\"SIG_PVAL\"])"
   ]
  },
  {
   "cell_type": "markdown",
   "id": "441b9f0c",
   "metadata": {},
   "source": [
    "##### but you can import value as the datatype you want. "
   ]
  },
  {
   "cell_type": "code",
   "execution_count": 20,
   "id": "c59c05ab",
   "metadata": {
    "ExecuteTime": {
     "end_time": "2021-12-08T00:38:45.164043Z",
     "start_time": "2021-12-08T00:38:45.158479Z"
    }
   },
   "outputs": [
    {
     "data": {
      "text/plain": [
       "float"
      ]
     },
     "execution_count": 20,
     "metadata": {},
     "output_type": "execute_result"
    }
   ],
   "source": [
    "type(config.getfloat(\"PARAMS\", \"SIG_PVAL\"))"
   ]
  },
  {
   "cell_type": "markdown",
   "id": "3115dcd9",
   "metadata": {},
   "source": [
    "##### import value as something besides str."
   ]
  },
  {
   "cell_type": "code",
   "execution_count": 21,
   "id": "2ee3c26f",
   "metadata": {
    "ExecuteTime": {
     "end_time": "2021-12-08T00:38:45.169220Z",
     "start_time": "2021-12-08T00:38:45.166359Z"
    }
   },
   "outputs": [],
   "source": [
    "# config.getfloat(\"SECTION\", \"key\")  # returns value as float\n",
    "\n",
    "# config.getbool(\"SECTION\", \"key\")  # returns value as bool\n",
    "\n",
    "# config.getint(\"SECTION\", \"key\")  # returns value as int"
   ]
  }
 ],
 "metadata": {
  "kernelspec": {
   "display_name": "Python (sfenv)",
   "language": "python",
   "name": "sfenv"
  },
  "language_info": {
   "codemirror_mode": {
    "name": "ipython",
    "version": 3
   },
   "file_extension": ".py",
   "mimetype": "text/x-python",
   "name": "python",
   "nbconvert_exporter": "python",
   "pygments_lexer": "ipython3",
   "version": "3.6.6"
  },
  "toc": {
   "base_numbering": 1,
   "nav_menu": {},
   "number_sections": false,
   "sideBar": true,
   "skip_h1_title": false,
   "title_cell": "Table of Contents",
   "title_sidebar": "Contents",
   "toc_cell": false,
   "toc_position": {},
   "toc_section_display": true,
   "toc_window_display": false
  }
 },
 "nbformat": 4,
 "nbformat_minor": 5
}
