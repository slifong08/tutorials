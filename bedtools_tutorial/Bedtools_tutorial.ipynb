{
 "cells": [
  {
   "cell_type": "markdown",
   "metadata": {},
   "source": [
    "# Bedtools Tutorial"
   ]
  },
  {
   "cell_type": "code",
   "execution_count": null,
   "metadata": {
    "collapsed": true
   },
   "outputs": [],
   "source": [
    "import os, sys\n",
    "import pandas as pd"
   ]
  },
  {
   "cell_type": "markdown",
   "metadata": {},
   "source": [
    "# .bed file format\n",
    "\n",
    "basic format: https://genome.ucsc.edu/FAQ/FAQformat.html#format1\n",
    "\n",
    "- tab separated\n",
    "- three main columns - chr, start, end"
   ]
  },
  {
   "cell_type": "markdown",
   "metadata": {},
   "source": [
    "## 0-start, half-open (0-based)\n",
    "\n",
    "tutorial: https://genome-blog.soe.ucsc.edu/blog/2016/12/12/the-ucsc-genome-browser-coordinate-counting-systems/"
   ]
  },
  {
   "cell_type": "code",
   "execution_count": null,
   "metadata": {},
   "outputs": [],
   "source": [
    "# make two bed files\n",
    "\n",
    "dfa = pd.DataFrame({\n",
    "                    \"#chr\": [\"chr1\", \"chr1\"], \n",
    "                    \"start\": [1, 25],\n",
    "                    \"end\":[10, 50]\n",
    "                  })\n",
    "\n",
    "dfb = pd.DataFrame({\n",
    "                    \"#chr\": [\"chr1\",\"chr1\", \"chr1\"], \n",
    "                    \"start\": [1, 5, 50],\n",
    "                    \"end\":[10, 25, 100]\n",
    "                  })\n",
    "# write bed files\n",
    "dfa.to_csv('a.bed', sep = '\\t', index = False)\n",
    "dfb.to_csv('b.bed', sep = '\\t', index = False)"
   ]
  },
  {
   "cell_type": "code",
   "execution_count": null,
   "metadata": {},
   "outputs": [],
   "source": [
    "dfa"
   ]
  },
  {
   "cell_type": "code",
   "execution_count": null,
   "metadata": {},
   "outputs": [],
   "source": [
    "dfb"
   ]
  },
  {
   "cell_type": "markdown",
   "metadata": {},
   "source": [
    "## Intersect\n",
    "\n",
    "https://bedtools.readthedocs.io/en/latest/content/tools/intersect.html"
   ]
  },
  {
   "cell_type": "markdown",
   "metadata": {},
   "source": [
    "### overlapping"
   ]
  },
  {
   "cell_type": "code",
   "execution_count": null,
   "metadata": {},
   "outputs": [],
   "source": [
    "%%bash\n",
    "\n",
    "bedtools intersect -a a.bed -b b.bed "
   ]
  },
  {
   "cell_type": "markdown",
   "metadata": {},
   "source": [
    "### non-overlapping\n",
    "\n",
    "\"-v\""
   ]
  },
  {
   "cell_type": "code",
   "execution_count": null,
   "metadata": {},
   "outputs": [],
   "source": [
    "%%bash\n",
    "\n",
    "bedtools intersect -a a.bed -b b.bed -v"
   ]
  },
  {
   "cell_type": "markdown",
   "metadata": {},
   "source": [
    "#### opposite input order"
   ]
  },
  {
   "cell_type": "code",
   "execution_count": null,
   "metadata": {},
   "outputs": [],
   "source": [
    "%%bash\n",
    "\n",
    "bedtools intersect -a b.bed -b a.bed -v"
   ]
  },
  {
   "cell_type": "markdown",
   "metadata": {},
   "source": [
    "### partially overlapping\n",
    "\n",
    "\"-f\" Minimum overlap required as a fraction of A. Default is 1E-9 (i.e. 1bp).\n",
    "\n",
    "\"-F\" Minimum overlap required as a fraction of B. Default is 1E-9 (i.e., 1bp)."
   ]
  },
  {
   "cell_type": "code",
   "execution_count": 1,
   "metadata": {
    "ExecuteTime": {
     "end_time": "2022-01-06T21:30:48.072194Z",
     "start_time": "2022-01-06T21:30:48.037984Z"
    }
   },
   "outputs": [
    {
     "name": "stdout",
     "output_type": "stream",
     "text": [
      "chr1\t1\t10\n"
     ]
    }
   ],
   "source": [
    "%%bash\n",
    "\n",
    "bedtools intersect -a a.bed -b b.bed -f 0.8  # require 80% overlap of any region in a.bed "
   ]
  },
  {
   "cell_type": "code",
   "execution_count": null,
   "metadata": {
    "collapsed": true
   },
   "outputs": [],
   "source": []
  },
  {
   "cell_type": "markdown",
   "metadata": {},
   "source": [
    "# bedtools suite\n",
    "https://bedtools.readthedocs.io/en/latest/content/bedtools-suite.html"
   ]
  }
 ],
 "metadata": {
  "kernelspec": {
   "display_name": "Python (sfenv)",
   "language": "python",
   "name": "sfenv"
  },
  "language_info": {
   "codemirror_mode": {
    "name": "ipython",
    "version": 3
   },
   "file_extension": ".py",
   "mimetype": "text/x-python",
   "name": "python",
   "nbconvert_exporter": "python",
   "pygments_lexer": "ipython3",
   "version": "3.6.6"
  },
  "toc": {
   "base_numbering": 1,
   "nav_menu": {},
   "number_sections": false,
   "sideBar": true,
   "skip_h1_title": false,
   "title_cell": "Table of Contents",
   "title_sidebar": "Contents",
   "toc_cell": false,
   "toc_position": {},
   "toc_section_display": true,
   "toc_window_display": true
  }
 },
 "nbformat": 4,
 "nbformat_minor": 2
}
