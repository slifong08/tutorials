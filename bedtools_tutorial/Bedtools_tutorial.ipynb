{
 "cells": [
  {
   "cell_type": "markdown",
   "metadata": {
    "heading_collapsed": true
   },
   "source": [
    "# Bedtools Tutorial"
   ]
  },
  {
   "cell_type": "code",
   "execution_count": 1,
   "metadata": {
    "hidden": true
   },
   "outputs": [],
   "source": [
    "import os, sys\n",
    "import pandas as pd"
   ]
  },
  {
   "cell_type": "markdown",
   "metadata": {},
   "source": [
    "# .bed file format"
   ]
  },
  {
   "cell_type": "markdown",
   "metadata": {},
   "source": [
    "basic format: https://genome.ucsc.edu/FAQ/FAQformat.html#format1\n",
    "\n",
    "- tab separated\n",
    "- three main columns - chr, start, stop"
   ]
  },
  {
   "cell_type": "markdown",
   "metadata": {},
   "source": [
    "# indexing"
   ]
  },
  {
   "cell_type": "markdown",
   "metadata": {},
   "source": [
    "- Tutorial: https://genome-blog.soe.ucsc.edu/blog/2016/12/12/the-ucsc-genome-browser-coordinate-counting-systems/\n",
    "\n",
    "- Start = starting position of region\n",
    "- Stop = stopping position of region\n",
    "- Size = n bases (STOP - START)\n",
    "- Range = sequence limits."
   ]
  },
  {
   "cell_type": "markdown",
   "metadata": {},
   "source": [
    "##### Indexing matters for determining the \"real\" region\n",
    "- Index from zero or one?\n",
    "- Include/exclude STOP?\n",
    "\n",
    "\n",
    "- ALWAYS include START"
   ]
  },
  {
   "cell_type": "markdown",
   "metadata": {},
   "source": [
    "## .bed files are 0-start, half-open (0-based)"
   ]
  },
  {
   "cell_type": "markdown",
   "metadata": {},
   "source": [
    "- Index from zero (count: \"0, 1, 2, 3, 4\")\n",
    "- Size = stop - start\n",
    "\n",
    "- half-open (region spanning 0-5: INCLUDES 0, EXCLUDES 5, SIZE = 5-0, RANGE = 0-5) "
   ]
  },
  {
   "cell_type": "markdown",
   "metadata": {},
   "source": [
    "## UCSC genome browser coordinates are 1-start, fully-closed"
   ]
  },
  {
   "cell_type": "markdown",
   "metadata": {},
   "source": [
    "- Index from one (count: \"1,2,3,4,5\")\n",
    "- Size = stop - start + 1\n",
    "\n",
    "- fully-closed (region spanning from 1-5: INCLUDES 1, INCLUDES 5, SIZE = 5-1"
   ]
  },
  {
   "cell_type": "markdown",
   "metadata": {},
   "source": [
    "# A word about SNPs"
   ]
  },
  {
   "cell_type": "markdown",
   "metadata": {},
   "source": [
    "Table 2. SNP coordinates in UCSC web browser (1-start) vs table (0-start)\n",
    "\n",
    "                               rs782519173 (hg38)\t      Start\t     End\n",
    "    Positioned in web browser: 1-start, fully-closed\t   133255708\t 133255708\n",
    "    Stored in table:           0-start, half-open\t      133255707\t 133255708\n",
    "                    \n",
    "###### What is the coordinate of the SNP? "
   ]
  },
  {
   "cell_type": "markdown",
   "metadata": {},
   "source": [
    "# Example files "
   ]
  },
  {
   "cell_type": "code",
   "execution_count": 2,
   "metadata": {},
   "outputs": [],
   "source": [
    "# make two bed files\n",
    "\n",
    "dfa = pd.DataFrame({\n",
    "                    \"#chr\": [\"chr1\", \"chr1\"], \n",
    "                    \"start\": [1, 25],\n",
    "                    \"end\":[10, 50]\n",
    "                  })\n",
    "\n",
    "dfb = pd.DataFrame({\n",
    "                    \"#chr\": [\"chr1\",\"chr1\", \"chr1\"], \n",
    "                    \"start\": [1, 5, 50],\n",
    "                    \"end\":[10, 25, 100]\n",
    "                  })\n",
    "# write bed files\n",
    "dfa.to_csv('a.bed', sep = '\\t', index = False)\n",
    "dfb.to_csv('b.bed', sep = '\\t', index = False)"
   ]
  },
  {
   "cell_type": "markdown",
   "metadata": {},
   "source": [
    "## a.bed"
   ]
  },
  {
   "cell_type": "code",
   "execution_count": 3,
   "metadata": {},
   "outputs": [
    {
     "data": {
      "text/html": [
       "<div>\n",
       "<style scoped>\n",
       "    .dataframe tbody tr th:only-of-type {\n",
       "        vertical-align: middle;\n",
       "    }\n",
       "\n",
       "    .dataframe tbody tr th {\n",
       "        vertical-align: top;\n",
       "    }\n",
       "\n",
       "    .dataframe thead th {\n",
       "        text-align: right;\n",
       "    }\n",
       "</style>\n",
       "<table border=\"1\" class=\"dataframe\">\n",
       "  <thead>\n",
       "    <tr style=\"text-align: right;\">\n",
       "      <th></th>\n",
       "      <th>#chr</th>\n",
       "      <th>start</th>\n",
       "      <th>end</th>\n",
       "    </tr>\n",
       "  </thead>\n",
       "  <tbody>\n",
       "    <tr>\n",
       "      <th>0</th>\n",
       "      <td>chr1</td>\n",
       "      <td>1</td>\n",
       "      <td>10</td>\n",
       "    </tr>\n",
       "    <tr>\n",
       "      <th>1</th>\n",
       "      <td>chr1</td>\n",
       "      <td>25</td>\n",
       "      <td>50</td>\n",
       "    </tr>\n",
       "  </tbody>\n",
       "</table>\n",
       "</div>"
      ],
      "text/plain": [
       "   #chr  start  end\n",
       "0  chr1      1   10\n",
       "1  chr1     25   50"
      ]
     },
     "execution_count": 3,
     "metadata": {},
     "output_type": "execute_result"
    }
   ],
   "source": [
    "dfa"
   ]
  },
  {
   "cell_type": "markdown",
   "metadata": {},
   "source": [
    "## b.bed"
   ]
  },
  {
   "cell_type": "code",
   "execution_count": 4,
   "metadata": {},
   "outputs": [
    {
     "data": {
      "text/html": [
       "<div>\n",
       "<style scoped>\n",
       "    .dataframe tbody tr th:only-of-type {\n",
       "        vertical-align: middle;\n",
       "    }\n",
       "\n",
       "    .dataframe tbody tr th {\n",
       "        vertical-align: top;\n",
       "    }\n",
       "\n",
       "    .dataframe thead th {\n",
       "        text-align: right;\n",
       "    }\n",
       "</style>\n",
       "<table border=\"1\" class=\"dataframe\">\n",
       "  <thead>\n",
       "    <tr style=\"text-align: right;\">\n",
       "      <th></th>\n",
       "      <th>#chr</th>\n",
       "      <th>start</th>\n",
       "      <th>end</th>\n",
       "    </tr>\n",
       "  </thead>\n",
       "  <tbody>\n",
       "    <tr>\n",
       "      <th>0</th>\n",
       "      <td>chr1</td>\n",
       "      <td>1</td>\n",
       "      <td>10</td>\n",
       "    </tr>\n",
       "    <tr>\n",
       "      <th>1</th>\n",
       "      <td>chr1</td>\n",
       "      <td>5</td>\n",
       "      <td>25</td>\n",
       "    </tr>\n",
       "    <tr>\n",
       "      <th>2</th>\n",
       "      <td>chr1</td>\n",
       "      <td>50</td>\n",
       "      <td>100</td>\n",
       "    </tr>\n",
       "  </tbody>\n",
       "</table>\n",
       "</div>"
      ],
      "text/plain": [
       "   #chr  start  end\n",
       "0  chr1      1   10\n",
       "1  chr1      5   25\n",
       "2  chr1     50  100"
      ]
     },
     "execution_count": 4,
     "metadata": {},
     "output_type": "execute_result"
    }
   ],
   "source": [
    "dfb"
   ]
  },
  {
   "cell_type": "markdown",
   "metadata": {},
   "source": [
    "# Intersect\n",
    "\n",
    "- find overlapping sequences from two different .bed files. "
   ]
  },
  {
   "cell_type": "markdown",
   "metadata": {},
   "source": [
    "https://bedtools.readthedocs.io/en/latest/content/tools/intersect.html"
   ]
  },
  {
   "cell_type": "markdown",
   "metadata": {},
   "source": [
    "## overlapping"
   ]
  },
  {
   "cell_type": "code",
   "execution_count": 6,
   "metadata": {},
   "outputs": [
    {
     "name": "stdout",
     "output_type": "stream",
     "text": [
      "chr1\t1\t10\n",
      "chr1\t5\t10\n"
     ]
    }
   ],
   "source": [
    "%%bash\n",
    "\n",
    "bedtools intersect -a a.bed -b b.bed "
   ]
  },
  {
   "cell_type": "markdown",
   "metadata": {
    "heading_collapsed": true
   },
   "source": [
    "### what just happened?\n",
    "- from a.bed\n",
    "    - chr1:1-10 overlaps chr1:1-10 in b.bed\n",
    "        - returns overlap of chr1:1-10\n",
    "    - chr1:1-10 overlaps chr1:5-25 in b.bed\n",
    "        - returns overlap of chr1:5-10 \n",
    "        \n",
    "        \n",
    "    - chr1:25-50 does NOT overlap chr1:1-10, chr1:5-25, chr1:50-100  in b.bed\n",
    "        - no return of chr1:25-50"
   ]
  },
  {
   "cell_type": "markdown",
   "metadata": {},
   "source": [
    "## non-overlapping"
   ]
  },
  {
   "cell_type": "markdown",
   "metadata": {},
   "source": [
    "- find non-overlapping sequences\n",
    "\n",
    "\n",
    "        \"-v\""
   ]
  },
  {
   "cell_type": "code",
   "execution_count": 7,
   "metadata": {},
   "outputs": [
    {
     "name": "stdout",
     "output_type": "stream",
     "text": [
      "chr1\t25\t50\n"
     ]
    }
   ],
   "source": [
    "%%bash\n",
    "\n",
    "bedtools intersect -a a.bed -b b.bed -v"
   ]
  },
  {
   "cell_type": "markdown",
   "metadata": {},
   "source": [
    "### what just happened?\n",
    "- from a.bed\n",
    "    - chr1:1-10 overlaps chr1:1-10 in b.bed\n",
    "        - No return of overlap of chr1:1-10\n",
    "    - chr1:1-10 overlaps chr1:5-25 in b.bed\n",
    "        - No return of overlap of chr1:5-10 \n",
    "        \n",
    "        \n",
    "    - chr1:25-50 does NOT overlap chr1:1-10, chr1:5-25, chr1:50-100  in b.bed\n",
    "        - Returns chr1:25-50"
   ]
  },
  {
   "cell_type": "markdown",
   "metadata": {},
   "source": [
    "### opposite input order"
   ]
  },
  {
   "cell_type": "code",
   "execution_count": 8,
   "metadata": {},
   "outputs": [
    {
     "name": "stdout",
     "output_type": "stream",
     "text": [
      "chr1\t50\t100\n"
     ]
    }
   ],
   "source": [
    "%%bash\n",
    "# bedtools subtract -a b.bed -b a.bed\n",
    "\n",
    "bedtools intersect -a b.bed -b a.bed -v"
   ]
  },
  {
   "cell_type": "markdown",
   "metadata": {},
   "source": [
    "## partially overlapping\n",
    "\n",
    "\"-f\" Minimum overlap required as a fraction of A. Default is 1E-9 (i.e. 1bp).\n",
    "\n",
    "\"-F\" Minimum overlap required as a fraction of B. Default is 1E-9 (i.e., 1bp)."
   ]
  },
  {
   "cell_type": "markdown",
   "metadata": {},
   "source": [
    "##### 80% of region in a.bed must overlap region in b.bed"
   ]
  },
  {
   "cell_type": "code",
   "execution_count": 9,
   "metadata": {
    "ExecuteTime": {
     "end_time": "2022-01-06T21:30:48.072194Z",
     "start_time": "2022-01-06T21:30:48.037984Z"
    }
   },
   "outputs": [
    {
     "name": "stdout",
     "output_type": "stream",
     "text": [
      "chr1\t1\t10\n"
     ]
    }
   ],
   "source": [
    "%%bash\n",
    "\n",
    "bedtools intersect -a a.bed -b b.bed -f 0.8  # require 80% overlap of any region in a.bed "
   ]
  },
  {
   "cell_type": "markdown",
   "metadata": {},
   "source": [
    "### what happened? \n",
    "- a.bed has two regions(chr1:1-10 , chr1:5-10)\n",
    "\n",
    "\n",
    "- Region1: chr1:1-10 \n",
    "        in a.bed, 100% of chr1:1-10 overlaps chr1:1-10 in b.bed\n",
    "        \n",
    "        100% > 80% - This region was returned\n",
    "        \n",
    "- Region2: chr1:5-10\n",
    "        in a.bed, 50% of chr1:5-10 overlaps chr1:5-25 in b.bed\n",
    "        \n",
    "        50% < 80% - This region was not returned"
   ]
  },
  {
   "cell_type": "markdown",
   "metadata": {},
   "source": [
    "##### 50% of region in a.bed must overlap region in b.bed"
   ]
  },
  {
   "cell_type": "code",
   "execution_count": 11,
   "metadata": {},
   "outputs": [
    {
     "name": "stdout",
     "output_type": "stream",
     "text": [
      "chr1\t1\t10\n",
      "chr1\t5\t10\n"
     ]
    }
   ],
   "source": [
    "%%bash\n",
    "\n",
    "bedtools intersect -a a.bed -b b.bed -f 0.5  # require 50% overlap of any region in a.bed "
   ]
  },
  {
   "cell_type": "markdown",
   "metadata": {},
   "source": [
    "# Jaccard index "
   ]
  },
  {
   "cell_type": "markdown",
   "metadata": {},
   "source": [
    "- Goal: Quantify overlap between a.bed and b.bed\n",
    "\n",
    "\n",
    "- Jaccard index = n intersected bases / n union bases"
   ]
  },
  {
   "cell_type": "code",
   "execution_count": 15,
   "metadata": {},
   "outputs": [
    {
     "name": "stdout",
     "output_type": "stream",
     "text": [
      "intersection\tunion\tjaccard\tn_intersections\n",
      "9\t99\t0.0909091\t1\n"
     ]
    }
   ],
   "source": [
    "%%bash \n",
    "\n",
    "bedtools jaccard -a a.bed -b b.bed c.bed d.bed"
   ]
  },
  {
   "cell_type": "markdown",
   "metadata": {
    "heading_collapsed": true
   },
   "source": [
    "## What happened?\n",
    "\n",
    "- intersection: 9 bases overlap a.bed and b.bed\n",
    "\n",
    "\n",
    "- union: 99 bases total in a.bed + b.bed\n",
    "\n",
    "\n",
    "- Jaccard index = 0.0909091 = 9/99\n",
    "\n",
    "\n",
    "- n_intersections = 1 (a.bed x b.bed)"
   ]
  },
  {
   "cell_type": "markdown",
   "metadata": {},
   "source": [
    "# Genome coverage"
   ]
  },
  {
   "cell_type": "markdown",
   "metadata": {},
   "source": [
    "Goal: quantify genome coverage of .bed file\n",
    "\n",
    "Get genome files from \n",
    "- hg19: http://hgdownload.cse.ucsc.edu/goldenpath/hg19/bigZips/ \n",
    "- hg38: http://hgdownload.cse.ucsc.edu/goldenpath/hg38/bigZips/\n",
    "\n",
    "##### long run time!"
   ]
  },
  {
   "cell_type": "code",
   "execution_count": 2,
   "metadata": {
    "scrolled": true
   },
   "outputs": [
    {
     "name": "stdout",
     "output_type": "stream",
     "text": [
      "chr1\t0\t249250587\t249250621\t1\n",
      "chr1\t1\t34\t249250621\t1.36409e-07\n",
      "chr2\t0\t243199373\t243199373\t1\n",
      "chr3\t0\t198022430\t198022430\t1\n",
      "chr4\t0\t191154276\t191154276\t1\n",
      "chr5\t0\t180915260\t180915260\t1\n",
      "chr6\t0\t171115067\t171115067\t1\n",
      "chr7\t0\t159138663\t159138663\t1\n",
      "chrX\t0\t155270560\t155270560\t1\n",
      "chr8\t0\t146364022\t146364022\t1\n",
      "chr9\t0\t141213431\t141213431\t1\n",
      "chr10\t0\t135534747\t135534747\t1\n",
      "chr11\t0\t135006516\t135006516\t1\n",
      "chr12\t0\t133851895\t133851895\t1\n",
      "chr13\t0\t115169878\t115169878\t1\n",
      "chr14\t0\t107349540\t107349540\t1\n",
      "chr15\t0\t102531392\t102531392\t1\n",
      "chr16\t0\t90354753\t90354753\t1\n",
      "chr17\t0\t81195210\t81195210\t1\n",
      "chr18\t0\t78077248\t78077248\t1\n",
      "chr20\t0\t63025520\t63025520\t1\n",
      "chrY\t0\t59373566\t59373566\t1\n",
      "chr19\t0\t59128983\t59128983\t1\n",
      "chr22\t0\t51304566\t51304566\t1\n",
      "chr21\t0\t48129895\t48129895\t1\n",
      "chr6_ssto_hap7\t0\t4928567\t4928567\t1\n",
      "chr6_mcf_hap5\t0\t4833398\t4833398\t1\n",
      "chr6_cox_hap2\t0\t4795371\t4795371\t1\n",
      "chr6_mann_hap4\t0\t4683263\t4683263\t1\n",
      "chr6_apd_hap1\t0\t4622290\t4622290\t1\n",
      "chr6_qbl_hap6\t0\t4611984\t4611984\t1\n",
      "chr6_dbb_hap3\t0\t4610396\t4610396\t1\n",
      "chr17_ctg5_hap1\t0\t1680828\t1680828\t1\n",
      "chr4_ctg9_hap1\t0\t590426\t590426\t1\n",
      "chr1_gl000192_random\t0\t547496\t547496\t1\n",
      "chrUn_gl000225\t0\t211173\t211173\t1\n",
      "chr4_gl000194_random\t0\t191469\t191469\t1\n",
      "chr4_gl000193_random\t0\t189789\t189789\t1\n",
      "chr9_gl000200_random\t0\t187035\t187035\t1\n",
      "chrUn_gl000222\t0\t186861\t186861\t1\n",
      "chrUn_gl000212\t0\t186858\t186858\t1\n",
      "chr7_gl000195_random\t0\t182896\t182896\t1\n",
      "chrUn_gl000223\t0\t180455\t180455\t1\n",
      "chrUn_gl000224\t0\t179693\t179693\t1\n",
      "chrUn_gl000219\t0\t179198\t179198\t1\n",
      "chr17_gl000205_random\t0\t174588\t174588\t1\n",
      "chrUn_gl000215\t0\t172545\t172545\t1\n",
      "chrUn_gl000216\t0\t172294\t172294\t1\n",
      "chrUn_gl000217\t0\t172149\t172149\t1\n",
      "chr9_gl000199_random\t0\t169874\t169874\t1\n",
      "chrUn_gl000211\t0\t166566\t166566\t1\n",
      "chrUn_gl000213\t0\t164239\t164239\t1\n",
      "chrUn_gl000220\t0\t161802\t161802\t1\n",
      "chrUn_gl000218\t0\t161147\t161147\t1\n",
      "chr19_gl000209_random\t0\t159169\t159169\t1\n",
      "chrUn_gl000221\t0\t155397\t155397\t1\n",
      "chrUn_gl000214\t0\t137718\t137718\t1\n",
      "chrUn_gl000228\t0\t129120\t129120\t1\n",
      "chrUn_gl000227\t0\t128374\t128374\t1\n",
      "chr1_gl000191_random\t0\t106433\t106433\t1\n",
      "chr19_gl000208_random\t0\t92689\t92689\t1\n",
      "chr9_gl000198_random\t0\t90085\t90085\t1\n",
      "chr17_gl000204_random\t0\t81310\t81310\t1\n",
      "chrUn_gl000233\t0\t45941\t45941\t1\n",
      "chrUn_gl000237\t0\t45867\t45867\t1\n",
      "chrUn_gl000230\t0\t43691\t43691\t1\n",
      "chrUn_gl000242\t0\t43523\t43523\t1\n",
      "chrUn_gl000243\t0\t43341\t43341\t1\n",
      "chrUn_gl000241\t0\t42152\t42152\t1\n",
      "chrUn_gl000236\t0\t41934\t41934\t1\n",
      "chrUn_gl000240\t0\t41933\t41933\t1\n",
      "chr17_gl000206_random\t0\t41001\t41001\t1\n",
      "chrUn_gl000232\t0\t40652\t40652\t1\n",
      "chrUn_gl000234\t0\t40531\t40531\t1\n",
      "chr11_gl000202_random\t0\t40103\t40103\t1\n",
      "chrUn_gl000238\t0\t39939\t39939\t1\n",
      "chrUn_gl000244\t0\t39929\t39929\t1\n",
      "chrUn_gl000248\t0\t39786\t39786\t1\n",
      "chr8_gl000196_random\t0\t38914\t38914\t1\n",
      "chrUn_gl000249\t0\t38502\t38502\t1\n",
      "chrUn_gl000246\t0\t38154\t38154\t1\n",
      "chr17_gl000203_random\t0\t37498\t37498\t1\n",
      "chr8_gl000197_random\t0\t37175\t37175\t1\n",
      "chrUn_gl000245\t0\t36651\t36651\t1\n",
      "chrUn_gl000247\t0\t36422\t36422\t1\n",
      "chr9_gl000201_random\t0\t36148\t36148\t1\n",
      "chrUn_gl000235\t0\t34474\t34474\t1\n",
      "chrUn_gl000239\t0\t33824\t33824\t1\n",
      "chr21_gl000210_random\t0\t27682\t27682\t1\n",
      "chrUn_gl000231\t0\t27386\t27386\t1\n",
      "chrUn_gl000229\t0\t19913\t19913\t1\n",
      "chrM\t0\t16571\t16571\t1\n",
      "chrUn_gl000226\t0\t15008\t15008\t1\n",
      "chr18_gl000207_random\t0\t4262\t4262\t1\n",
      "genome\t0\t3137161230\t3137161264\t1\n",
      "genome\t1\t34\t3137161264\t1.08378e-08\n"
     ]
    }
   ],
   "source": [
    "%%bash\n",
    "\n",
    "bedtools genomecov -i a.bed -g hg19.chrom.sizes "
   ]
  },
  {
   "cell_type": "markdown",
   "metadata": {},
   "source": [
    "### What happened? \n",
    "\n",
    "#### per chromosome coverage\n",
    "- col 0 - chromosome (or entire genome)\n",
    "- col 1 - depth of coverage from features in input file (0 = not covered, 1 = covered)\n",
    "- col 2 - number of bases on chromosome (or genome) with depth equal to column 2.\n",
    "- col 3 - size of chromosome (or entire genome) in base pairs\n",
    "- col 4 - fraction of bases on chromosome (or entire genome) with depth equal to column 2.\n",
    "\n",
    "\n",
    "        chr    depth   nbases w/depth   chr/genome size   fraction w/depth\n",
    "        \n",
    "        chr1\t0\t249250587\t249250621\t1\n",
    "        chr1\t1\t34\t249250621\t1.36409e-07\n",
    "        chr2\t0\t243199373\t243199373\t1\n",
    "        chr3\t0\t198022430\t198022430\t1\n",
    "\n",
    "\n",
    "#### whole genome coverage\n",
    "    genome\t0\t3137161230\t3137161264\t1\n",
    "    genome\t1\t34\t3137161264\t1.08378e-08"
   ]
  },
  {
   "cell_type": "markdown",
   "metadata": {},
   "source": [
    "# Shuffle"
   ]
  },
  {
   "cell_type": "markdown",
   "metadata": {},
   "source": [
    "- Goal: Create expectation dataset, find random regions of genome w/ same length\n",
    "\n",
    "\n",
    "- Inputs\n",
    "    - \"-i\" .bed file\n",
    "    - \"-g\" genome file (e.g. \"/dors/capra_lab/data/dna/human/hg19/hg19_trim.chrom.sizes\")"
   ]
  },
  {
   "cell_type": "code",
   "execution_count": 21,
   "metadata": {},
   "outputs": [
    {
     "name": "stdout",
     "output_type": "stream",
     "text": [
      "chr10\t67454738\t67454747\n",
      "chr9\t138402130\t138402155\n"
     ]
    }
   ],
   "source": [
    "%%bash\n",
    "\n",
    "bedtools shuffle -i a.bed -g hg19.chrom.sizes "
   ]
  },
  {
   "cell_type": "markdown",
   "metadata": {},
   "source": [
    "### What happened? \n",
    "\n",
    "- Shuffling a.bed returns two random regions from genome. \n",
    "- Shuffled region 1 is 9 bp long, matches chr1:1-10\n",
    "- Shuffled region 2 is 25 bp long, matches chr1:25-50"
   ]
  },
  {
   "cell_type": "markdown",
   "metadata": {},
   "source": [
    "##### favorite args\n",
    "\n",
    "- \"-chrom\" shuffle for regions on same chromosome\n",
    "\n",
    "\n",
    "- \"-excl\" exclude regions like gaps, coding regions, repeat regions from shuffle\n",
    "\n",
    "\n",
    "- \"noOverlapping\" shuffled regions should not overlap"
   ]
  },
  {
   "cell_type": "code",
   "execution_count": 23,
   "metadata": {},
   "outputs": [
    {
     "name": "stdout",
     "output_type": "stream",
     "text": [
      "chr1\t63136898\t63136907\n",
      "chr1\t147087665\t147087690\n"
     ]
    }
   ],
   "source": [
    "%%bash\n",
    "\n",
    "bedtools shuffle -i a.bed -g hg19.chrom.sizes -chrom  -noOverlapping # only chr1 "
   ]
  },
  {
   "cell_type": "markdown",
   "metadata": {},
   "source": [
    "## pybedtools"
   ]
  },
  {
   "cell_type": "markdown",
   "metadata": {},
   "source": [
    "Python extension for BEDTools\n",
    "\n",
    "https://daler.github.io/pybedtools/main.html"
   ]
  },
  {
   "cell_type": "markdown",
   "metadata": {},
   "source": [
    "## ML's pybedtools script for shuffling"
   ]
  },
  {
   "cell_type": "code",
   "execution_count": null,
   "metadata": {},
   "outputs": [],
   "source": [
    "import os\n",
    "import sys, traceback\n",
    "import argparse\n",
    "from datetime import datetime\n",
    "import numpy as np\n",
    "from functools import partial\n",
    "from multiprocessing import Pool\n",
    "from pybedtools import BedTool\n",
    "\n",
    "\n",
    "\"\"\"\n",
    "ARGUMENTS\n",
    "\n",
    "    input.bed\n",
    "    sample_id\n",
    "    N shuffle iterations\n",
    "    species\n",
    "    N threads\n",
    "    output.bed\n",
    "\"\"\"\n",
    "\n",
    "arg_parser = argparse.ArgumentParser(description=\"shuffle a bed file\")\n",
    "\n",
    "arg_parser.add_argument(\"input_bed\", help='bed file 1 w/ full path')\n",
    "\n",
    "arg_parser.add_argument(\"sample_id\", help='str label for files')\n",
    "\n",
    "arg_parser.add_argument(\"-i\", \"--iters\", type=int, default=100,\n",
    "                        help='number of simulation iterations; default=100')\n",
    "\n",
    "arg_parser.add_argument(\"-s\", \"--species\", type=str, default='hg19', choices=['hg19', 'hg38', 'mm10'],\n",
    "                        help='species and assembly; default=hg19')\n",
    "\n",
    "arg_parser.add_argument(\"-n\", \"--num_threads\", type=int,\n",
    "                        help='number of threads; default=SLURM_CPUS_PER_TASK or 1')\n",
    "\n",
    "arg_parser.add_argument(\"--print_counts_to\", type=str, default=None,\n",
    "                        help=\"print expected counts to file\")\n",
    "\n",
    "args = arg_parser.parse_args()\n",
    "\n",
    "\n",
    "\"\"\" \n",
    "Sort arguments into variables\n",
    "\"\"\"\n",
    "\n",
    "TEST_BED = args.input_bed\n",
    "SAMPLE_ID = args.sample_id\n",
    "COUNT_FILENAME = args.print_counts_to\n",
    "ITERATIONS = args.iters\n",
    "SPECIES = args.species\n",
    "TEST_PATH = \"/\".join(TEST_BED.split(\"/\")[:-1])\n",
    "\n",
    "\"\"\"\n",
    "These variables require information from arguments and variables above. \n",
    "\"\"\"\n",
    "AGE_OUTFILE = f\"{TEST_PATH}/{SAMPLE_ID}_enh_ages.bed\"\n",
    "SHUFFLE_ID = f\"shuf-{SAMPLE_ID}\"\n",
    "\n",
    "\"\"\"\n",
    "# calculate the number of threads\n",
    "\"\"\"\n",
    "\n",
    "if args.num_threads:\n",
    "    num_threads = args.num_threads\n",
    "else:\n",
    "    num_threads = int(os.getenv('SLURM_CPUS_PER_TASK', 1))"
   ]
  },
  {
   "cell_type": "code",
   "execution_count": null,
   "metadata": {},
   "outputs": [],
   "source": [
    "\"\"\"\n",
    "#   functions\n",
    "\"\"\"\n",
    "\n",
    "def loadConstants(species):  \n",
    "    \n",
    "    \"\"\"\n",
    "    genome_dict[genome]:(genome_blacklist, genome_file) \n",
    "    \"\"\"\n",
    "    \n",
    "    genome_dict = {\n",
    "            'hg19': (\"/dors/capra_lab/users/bentonml/data/dna/hg19/hg19_blacklist_gap.bed\", \"/dors/capra_lab/data/dna/human/hg19/hg19_trim.chrom.sizes\"),\n",
    "            'hg38': (\"/dors/capra_lab/users/bentonml/data/dna/hg38/hg38_blacklist_gap.bed\", \"/dors/capra_lab/data/dna/human/hg38/hg38_trim.chrom.sizes\"),\n",
    "            'mm10': (\"/dors/capra_lab/users/bentonml/data/dna/mm10/mm10_blacklist_gap.bed\", \"/dors/capra_lab/data/dna/mouse/mm10/mm10_trim.chrom.sizes\")\n",
    "            }\n",
    "    \n",
    "    return genome_dict[species]"
   ]
  },
  {
   "cell_type": "markdown",
   "metadata": {},
   "source": [
    "### Shuffle function w/ pybedtools"
   ]
  },
  {
   "cell_type": "code",
   "execution_count": null,
   "metadata": {},
   "outputs": [],
   "source": [
    "def calculateExpected(test_enh, test_path, species, shuffle_id):\n",
    "    \"\"\"\n",
    "    1. Get blacklist regions, genome file. \n",
    "        genome file is not needed w/ pybedtools\n",
    "        \n",
    "    2. Make output path for shuffled files. \n",
    "    \n",
    "    3. Do pybedtools shuffle w/ args\n",
    "        genome = 'hg19'\n",
    "        exclude blacklist\n",
    "        maintain chromosome distribution\n",
    "        no overlapping shuffled regions. \n",
    "        \n",
    "    4. save the shuffle object as .bed file\n",
    "        \n",
    "    \"\"\"\n",
    "    \n",
    "    # step 1 \n",
    "    BLACKLIST, CHROM_SZ = loadConstants(species)  # note CHROM_SZ not needed w pybedtools\n",
    "\n",
    "    # step 2\n",
    "    shuffle_path = f\"{test_path}/shuffle\"  # make a shuffle path file\n",
    "    os.system(f\"mkdir {shuffle_path}\")\n",
    "    \n",
    "    # step 3\n",
    "    rand_file = BedTool(test_enh).shuffle(genome='hg19', excl=BLACKLIST, chrom=True, noOverlapping=True) # shuffle bed\n",
    "    \n",
    "    # step 4\n",
    "    rand_out = f'{shuffle_path}/rand_file_{shuffle_id}.bed' # make shuffle file\n",
    "\n",
    "    rand_file.saveas(rand_out)  # write shuffle file"
   ]
  },
  {
   "cell_type": "markdown",
   "metadata": {},
   "source": [
    "### Shuffle function w/ command line"
   ]
  },
  {
   "cell_type": "code",
   "execution_count": null,
   "metadata": {},
   "outputs": [],
   "source": [
    "def calculateExpected(test_enh, sample_id, test_path, species, iters):\n",
    "    \"\"\"\n",
    "    1. Get blacklist regions, genome file. \n",
    "        \n",
    "    2. Make output path for shuffled files. \n",
    "        \n",
    "    4. Make file to save the shuffle object as .bed file\n",
    "    \n",
    "    3. Do pybedtools shuffle w/ args\n",
    "        genome = 'hg19'\n",
    "        exclude blacklist\n",
    "        maintain chromosome distribution\n",
    "        no overlapping shuffled regions. \n",
    "        \n",
    "    \"\"\"\n",
    "    \n",
    "    # step 1 \n",
    "    BLACKLIST, CHROM_SZ = loadConstants(species)  \n",
    "\n",
    "    # step 2\n",
    "    shuffle_path = f\"{test_path}/shuffle\"  # make a shuffle path file\n",
    "\n",
    "    if os.path.exists(shuffle_path) == False:\n",
    "\n",
    "          os.system(f\"mkdir {shuffle_path}\")\n",
    "\n",
    "    # step 3 \n",
    "    shuffle_id = f\"shuf-{sample_id}-{iters}\"\n",
    "\n",
    "    shuffle_out = os.path.join(shuffle_path, f'{shuffle_id}.bed')\n",
    "\n",
    "    # step 4\n",
    "    BEDshuf = f\"bedtools shuffle \\\n",
    "                -i {test_enh} \\ \n",
    "                -g {CHROM_SZ} \\\n",
    "                -excl {BLACKLIST} \\\n",
    "                -chrom \\\n",
    "                -noOverlapping \\\n",
    "                -maxTries 5000 \\\n",
    "                > {shuffle_out}\"\n",
    "    \n",
    "    # run on commandline\n",
    "    os.system(BEDshuf)  "
   ]
  },
  {
   "cell_type": "code",
   "execution_count": null,
   "metadata": {},
   "outputs": [],
   "source": [
    "\"\"\"\n",
    "# main\n",
    "\"\"\"\n",
    "\n",
    "def main(argv):\n",
    "    print('python {:s} {:s}'.format(' '.join(sys.argv), str(datetime.now())[:20]))\n",
    "\n",
    "    # create pool and run simulations in parallel\n",
    "    pool = Pool(num_threads)\n",
    "    partial_calcExp = partial(calculateExpected,\\ \n",
    "                              BedTool(TEST_BED), TEST_PATH, SPECIES,\\\n",
    "                              (SHUFFLE_ID for SHUFFLE_ID in np.arange(ITERS))\n",
    "\n",
    "if __name__ == \"__main__\":\n",
    "    main(sys.argv[1:])"
   ]
  },
  {
   "cell_type": "markdown",
   "metadata": {},
   "source": [
    "# bedtools suite\n",
    "https://bedtools.readthedocs.io/en/latest/content/bedtools-suite.html"
   ]
  }
 ],
 "metadata": {
  "kernelspec": {
   "display_name": "Python 3",
   "language": "python",
   "name": "python3"
  },
  "language_info": {
   "codemirror_mode": {
    "name": "ipython",
    "version": 3
   },
   "file_extension": ".py",
   "mimetype": "text/x-python",
   "name": "python",
   "nbconvert_exporter": "python",
   "pygments_lexer": "ipython3",
   "version": "3.8.5"
  },
  "toc": {
   "base_numbering": 1,
   "nav_menu": {},
   "number_sections": false,
   "sideBar": true,
   "skip_h1_title": false,
   "title_cell": "Table of Contents",
   "title_sidebar": "Contents",
   "toc_cell": false,
   "toc_position": {},
   "toc_section_display": true,
   "toc_window_display": true
  }
 },
 "nbformat": 4,
 "nbformat_minor": 2
}
