{
 "cells": [
  {
   "cell_type": "markdown",
   "metadata": {},
   "source": [
    "# Using Jupyter Notebooks on ACCRE\n",
    "### Sarah Fong\n",
    "#### 20210723 \n",
    "\n",
    "This script is meant to\n",
    "\n",
    "\n",
    "(1) Configure jupyter notebooks in your ACCRE environment. You hopefully only need to configure once. \n",
    "\n",
    "\n",
    "(2) Tunnel from ACCRE to your local computer. \n",
    "\n",
    "    \n",
    "##### This only works with the Capra1 gateway. Does not work with the main ACCRE gateway."
   ]
  },
  {
   "cell_type": "markdown",
   "metadata": {},
   "source": [
    "### Logging in to ACCRE\n",
    "In the terminal command line, log in to ACCRE"
   ]
  },
  {
   "cell_type": "code",
   "execution_count": null,
   "metadata": {},
   "outputs": [],
   "source": [
    "ssh fongsl@capra1.accre.vanderbilt.edu"
   ]
  },
  {
   "cell_type": "markdown",
   "metadata": {},
   "source": [
    "# Setting up ACCRE environment"
   ]
  },
  {
   "cell_type": "markdown",
   "metadata": {},
   "source": [
    "### Load Anaconda in your ACCRE environment"
   ]
  },
  {
   "cell_type": "code",
   "execution_count": null,
   "metadata": {},
   "outputs": [],
   "source": [
    "ml load Anaconda3/2019.10"
   ]
  },
  {
   "cell_type": "markdown",
   "metadata": {},
   "source": [
    "### Download Jupyter notebooks \n",
    "\n",
    "Download Jupyter Notebooks \n",
    "(if you do not already have Jupyter notebooks in your environment)"
   ]
  },
  {
   "cell_type": "code",
   "execution_count": null,
   "metadata": {},
   "outputs": [],
   "source": [
    "conda install -c conda-forge jupyterlab"
   ]
  },
  {
   "cell_type": "markdown",
   "metadata": {},
   "source": [
    "### Configure jupyter notebooks\n",
    "\n",
    "generate a config file"
   ]
  },
  {
   "cell_type": "code",
   "execution_count": null,
   "metadata": {},
   "outputs": [],
   "source": [
    "jupyter notebook --generate-config"
   ]
  },
  {
   "cell_type": "markdown",
   "metadata": {},
   "source": [
    "edit the config file - change which port jupyter notebooks connects to"
   ]
  },
  {
   "cell_type": "code",
   "execution_count": null,
   "metadata": {},
   "outputs": [],
   "source": [
    " emacs ./.jupyter/jupyter_notebook_config.py"
   ]
  },
  {
   "cell_type": "markdown",
   "metadata": {},
   "source": [
    "uncomment these parts in the config file:"
   ]
  },
  {
   "cell_type": "code",
   "execution_count": null,
   "metadata": {},
   "outputs": [],
   "source": [
    "## The port the notebook server will listen on.                                                                           \n",
    "c.NotebookApp.port = 7778\n",
    "\n",
    "##\n",
    "c.NotebookApp.token = '0000'"
   ]
  },
  {
   "cell_type": "markdown",
   "metadata": {},
   "source": [
    "### Set up virtual environments for jupyter notebooks\n",
    "\n",
    "In ACCRE commandline, activate your virtualenv (e.g. \"sfenv\")"
   ]
  },
  {
   "cell_type": "code",
   "execution_count": null,
   "metadata": {},
   "outputs": [],
   "source": [
    "Source activate sfenv"
   ]
  },
  {
   "cell_type": "markdown",
   "metadata": {},
   "source": [
    "install the virtual environment as a kernel"
   ]
  },
  {
   "cell_type": "code",
   "execution_count": null,
   "metadata": {},
   "outputs": [],
   "source": [
    "python -m ipykernel install --user --name sfenv --display-name \"Python (sfenv)\""
   ]
  },
  {
   "cell_type": "markdown",
   "metadata": {},
   "source": [
    "# Tunneling w/ Capra1\n",
    "\n",
    "### Step 1 - Open a port in ACCRE\n",
    "\n",
    "In ACCRE commandline\n",
    "\n",
    "1a - Go to directory you want to run jupyter notebooks in\n",
    "\n",
    "1b - run command below in commandline"
   ]
  },
  {
   "cell_type": "code",
   "execution_count": null,
   "metadata": {},
   "outputs": [],
   "source": [
    "# connect to port 7778\n",
    "jupyter notebook --no-browser --ip='*' --port=7778 "
   ]
  },
  {
   "cell_type": "markdown",
   "metadata": {},
   "source": [
    "### Step 2 - Open a port on your local computer\n",
    "\n",
    "In local commandline (open another terminal tab)\n",
    "\n",
    "run command below"
   ]
  },
  {
   "cell_type": "code",
   "execution_count": null,
   "metadata": {},
   "outputs": [],
   "source": [
    "ssh -L 9999:capra1:7778 fongsl@capra1.accre.vanderbilt.edu"
   ]
  },
  {
   "cell_type": "markdown",
   "metadata": {},
   "source": [
    "This tunnels local port 9999 through capra1 gateway to ACCRE port 7778 "
   ]
  },
  {
   "cell_type": "markdown",
   "metadata": {},
   "source": [
    "### Step 3 - Open up jupyter notebooks in your web browser\n",
    "Connect to port 9999 in safari, chrome, etc."
   ]
  },
  {
   "cell_type": "code",
   "execution_count": null,
   "metadata": {},
   "outputs": [],
   "source": [
    "http://localhost:9999/"
   ]
  },
  {
   "cell_type": "markdown",
   "metadata": {},
   "source": [
    "enter your token"
   ]
  },
  {
   "cell_type": "markdown",
   "metadata": {},
   "source": [
    "### Step 4 - make a jupyter notebook w/ virtual environment kernel"
   ]
  },
  {
   "cell_type": "markdown",
   "metadata": {},
   "source": [
    "4.1 create a new notebook\n",
    "\n",
    "4.2 under Kernel tab, select \"Change kernel\", then select your virtual environment\n"
   ]
  },
  {
   "cell_type": "markdown",
   "metadata": {},
   "source": [
    "# Bonus points\n",
    "\n",
    "Make ACCRE alias + Local function to run ACCRE\n",
    "\n",
    "Configure ACCRE env /home/fongsl/.bashrc"
   ]
  },
  {
   "cell_type": "code",
   "execution_count": null,
   "metadata": {},
   "outputs": [],
   "source": [
    "# alias for tunneling on ACCRE\n",
    "\n",
    "    alias 'nb1'=\"jupyter notebook --no-browser --ip='*' --port=7778\""
   ]
  },
  {
   "cell_type": "markdown",
   "metadata": {},
   "source": [
    "Configure local env /Users/fongsl/.bash_profile"
   ]
  },
  {
   "cell_type": "code",
   "execution_count": null,
   "metadata": {},
   "outputs": [],
   "source": [
    "# functions for tunneling on local computer\n",
    "\n",
    "    function nb1 { ssh -L 9999:capra1:\"$1\" fongsl@capra1.accre.vanderbilt.edu; }\n",
    "\n",
    "    export -f nb1"
   ]
  },
  {
   "cell_type": "markdown",
   "metadata": {},
   "source": [
    "# Tunneling w/ a slurm script"
   ]
  },
  {
   "cell_type": "code",
   "execution_count": null,
   "metadata": {},
   "outputs": [],
   "source": []
  },
  {
   "cell_type": "markdown",
   "metadata": {},
   "source": [
    "# FAQs \n",
    "\n",
    "How long will my ACCRE session stay open?\n",
    "\n",
    "    Your session will run on ACCRE so long as BOTH the local and the accre terminals are open.\n",
    "\n",
    "\n",
    "\n",
    "What if my script is running and the tunnel collapses?\n",
    "\n",
    "\n",
    "    Your script will not complete its run. Use Slurm next time!"
   ]
  },
  {
   "cell_type": "code",
   "execution_count": null,
   "metadata": {},
   "outputs": [],
   "source": []
  }
 ],
 "metadata": {
  "kernelspec": {
   "display_name": "Python (sfenv)",
   "language": "python",
   "name": "sfenv"
  },
  "language_info": {
   "codemirror_mode": {
    "name": "ipython",
    "version": 3
   },
   "file_extension": ".py",
   "mimetype": "text/x-python",
   "name": "python",
   "nbconvert_exporter": "python",
   "pygments_lexer": "ipython3",
   "version": "3.6.9"
  }
 },
 "nbformat": 4,
 "nbformat_minor": 4
}
