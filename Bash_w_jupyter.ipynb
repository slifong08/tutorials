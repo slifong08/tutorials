{
 "cells": [
  {
   "cell_type": "markdown",
   "metadata": {},
   "source": [
    "# Bash w/ ACCRE, Jupyter notebooks "
   ]
  },
  {
   "cell_type": "markdown",
   "metadata": {},
   "source": [
    "### 1. Load anaconda"
   ]
  },
  {
   "cell_type": "markdown",
   "metadata": {
    "collapsed": true
   },
   "source": [
    "    ml load GCC/6.4.0-2.28 Anaconda3/5.0.1\n",
    "\n",
    "View the modules\n",
    "\n",
    "    ml list"
   ]
  },
  {
   "cell_type": "markdown",
   "metadata": {},
   "source": [
    "### 2. create virtual environment (ACCRE)"
   ]
  },
  {
   "cell_type": "markdown",
   "metadata": {},
   "source": [
    "create virtual environment while logged into ACCRE. \n",
    "\n",
    "I named my virtualenv 'sfconda'\n",
    "\n",
    "more info: https://conda.io/projects/conda/en/latest/user-guide/tasks/manage-environments.html#activating-an-environment\n",
    "    \n",
    "    conda create -n sfconda python=3.6"
   ]
  },
  {
   "cell_type": "markdown",
   "metadata": {},
   "source": [
    "#### activate conda environment\n",
    "To activate this environment, use\n",
    "\n",
    "     $ conda activate sfconda\n",
    "\n",
    "#### inactivate conda environment\n",
    "\n",
    "To deactivate an active environment, use\n",
    "\n",
    "     $ conda deactivate\n",
    "\n",
    "#### get info about conda environment \n",
    "    conda info --envs"
   ]
  },
  {
   "cell_type": "markdown",
   "metadata": {},
   "source": [
    "Should see this:\n",
    "\n",
    "    conda environments:\n",
    "\n",
    "    base                     /accre/arch/easybuild/software/BinDist/Anaconda3/5.0.1\n",
    "    sfconda               *  /home/fongsl/.conda/envs/sfconda\n",
    "\n",
    "###### * current env"
   ]
  },
  {
   "cell_type": "markdown",
   "metadata": {},
   "source": [
    "### 3. set up virtual environment "
   ]
  },
  {
   "cell_type": "markdown",
   "metadata": {},
   "source": [
    "#### activate virtual environment\n",
    "    Source activate sfconda\n",
    "\n",
    "#### install packages in python virtual environment\n",
    "    python -m pip install --upgrade pip\n",
    "    \n",
    "    pip install ipykernel numpy scipy matplotlib pandas scikit-learn hdfs\n",
    "\n",
    "#### Install bash kernel for python\n",
    "    \n",
    "    pip install bash_kernel\n",
    "    \n",
    "    python -m bash_kernel.install # should do the same thing as pip cmd above\n",
    "\n",
    "#### Add virtual environment to jupyter\n",
    "    \n",
    "    python -m ipykernel install --user --name sfconda --display-name \"Python (sfconda)\"\n",
    "\n"
   ]
  },
  {
   "cell_type": "markdown",
   "metadata": {},
   "source": [
    "### 3. Lauch jupyter notebook portal on ACCRE\n",
    "- go to http://portal.accre.vanderbilt.edu \n",
    "- -> interactive apps \n",
    "- -> Jupyter Notebook\n",
    "\n",
    "-- Working Directory\n",
    "\n",
    "    /dors/capra_lab/users/fongsl/\n",
    "\n",
    "-- Python Version\n",
    "    \n",
    "    python3.6.3/Anaconda 5.0.1\n",
    "    \n",
    "-- Python or Conda Virtual Environment\n",
    "\n",
    "    /home/fongsl/.conda/envs/sfconda\n",
    "\n",
    "- launch job"
   ]
  },
  {
   "cell_type": "markdown",
   "metadata": {},
   "source": [
    "### 4. Connect to Jupyter"
   ]
  },
  {
   "cell_type": "markdown",
   "metadata": {},
   "source": [
    "Select \"New\" in upper right-hand corner, then select Bash"
   ]
  },
  {
   "cell_type": "markdown",
   "metadata": {},
   "source": [
    "With this, you can\n",
    "\n",
    "- Run Bash commands in the commandline \n",
    "- Take notes w/ Markdown\n"
   ]
  },
  {
   "cell_type": "markdown",
   "metadata": {
    "collapsed": true
   },
   "source": [
    "# R w/ ACCRE, Jupyter notebooks "
   ]
  },
  {
   "cell_type": "markdown",
   "metadata": {},
   "source": [
    "    conda install -c r r-irkernel"
   ]
  },
  {
   "cell_type": "code",
   "execution_count": null,
   "metadata": {
    "collapsed": true
   },
   "outputs": [],
   "source": []
  }
 ],
 "metadata": {
  "kernelspec": {
   "display_name": "Python (sfenv)",
   "language": "python",
   "name": "sfenv"
  },
  "language_info": {
   "codemirror_mode": {
    "name": "ipython",
    "version": 3
   },
   "file_extension": ".py",
   "mimetype": "text/x-python",
   "name": "python",
   "nbconvert_exporter": "python",
   "pygments_lexer": "ipython3",
   "version": "3.6.9"
  }
 },
 "nbformat": 4,
 "nbformat_minor": 2
}
